{
 "cells": [
  {
   "cell_type": "code",
   "execution_count": 2,
   "id": "28a64561-6a59-41f3-b9d7-6673e3048102",
   "metadata": {},
   "outputs": [],
   "source": [
    "import numpy as np"
   ]
  },
  {
   "cell_type": "code",
   "execution_count": 4,
   "id": "ff760198-bc26-4407-9ccb-e2f7237e334e",
   "metadata": {},
   "outputs": [
    {
     "name": "stdout",
     "output_type": "stream",
     "text": [
      "[ 4  5  7 10]\n"
     ]
    },
    {
     "data": {
      "text/plain": [
       "numpy.ndarray"
      ]
     },
     "execution_count": 4,
     "metadata": {},
     "output_type": "execute_result"
    }
   ],
   "source": [
    "array_1D = np.array([4, 5, 7, 10])\n",
    "print(array_1D)\n",
    "type(array_1D)"
   ]
  },
  {
   "cell_type": "code",
   "execution_count": 5,
   "id": "6dbc4c01-8082-4b15-aa18-861e7178c8c8",
   "metadata": {},
   "outputs": [
    {
     "name": "stdout",
     "output_type": "stream",
     "text": [
      "[[ 4  5]\n",
      " [ 7 10]]\n"
     ]
    }
   ],
   "source": [
    "array_2 = np.array([[4, 5], [7, 10]])\n",
    "print(array_2)"
   ]
  },
  {
   "cell_type": "code",
   "execution_count": 10,
   "id": "7da36897-e3f1-4b70-825e-efd479b2407f",
   "metadata": {},
   "outputs": [
    {
     "name": "stdout",
     "output_type": "stream",
     "text": [
      "Array 1D Mean:  6.5\n",
      "Array 2D Mean:  6.5\n",
      "Array 2D Row Wise Mean:  [4.5 8.5]\n",
      "Array 2D Col Wise Mean:  [5.5 7.5]\n"
     ]
    }
   ],
   "source": [
    "print(\"Array 1D Mean: \", array_1D.mean())\n",
    "print(\"Array 2D Mean: \", array_2.mean())\n",
    "print(\"Array 2D Row Wise Mean: \", np.mean(array_2, axis = 1))\n",
    "print(\"Array 2D Col Wise Mean: \", np.mean(array_2, axis = 0))"
   ]
  },
  {
   "cell_type": "code",
   "execution_count": 11,
   "id": "58a88cbc-1641-42b5-984e-4651cb44e7df",
   "metadata": {},
   "outputs": [
    {
     "name": "stdout",
     "output_type": "stream",
     "text": [
      "Array 2D Row Wise Mean:  [4 8]\n",
      "Array 2D Col Wise Mean:  [5 7]\n"
     ]
    }
   ],
   "source": [
    "print(\"Array 2D Row Wise Mean: \", np.mean(array_2, axis = 1, dtype=int))\n",
    "print(\"Array 2D Col Wise Mean: \", np.mean(array_2, axis = 0, dtype=int))"
   ]
  },
  {
   "cell_type": "code",
   "execution_count": 13,
   "id": "212bdfb4-6dc7-4e12-a402-f3b5b31d0b30",
   "metadata": {},
   "outputs": [],
   "source": [
    "array_1D = np.array([10, 11, 12, 13, 14])\n",
    "array_2D = np.array([[20, 30, 40, 50, 60], [43, 54, 65, 76, 87], [11, 22, 33, 44, 55]])\n",
    "array_3D = np.array([[[1, 2, 3, 4, 5], [11, 21, 31, 41, 51]], [[11, 12, 13, 14, 15],[51, 52, 53, 54, 5]]])\n"
   ]
  },
  {
   "cell_type": "code",
   "execution_count": 14,
   "id": "1834086d-5eb0-444f-a362-6aec2e4ac2c5",
   "metadata": {},
   "outputs": [
    {
     "data": {
      "text/plain": [
       "array([10, 11, 12, 13, 14])"
      ]
     },
     "execution_count": 14,
     "metadata": {},
     "output_type": "execute_result"
    }
   ],
   "source": [
    "array_1D"
   ]
  },
  {
   "cell_type": "code",
   "execution_count": 15,
   "id": "7f66b9b9-3043-4f6d-a7af-60ee24d76340",
   "metadata": {},
   "outputs": [
    {
     "data": {
      "text/plain": [
       "array([[20, 30, 40, 50, 60],\n",
       "       [43, 54, 65, 76, 87],\n",
       "       [11, 22, 33, 44, 55]])"
      ]
     },
     "execution_count": 15,
     "metadata": {},
     "output_type": "execute_result"
    }
   ],
   "source": [
    "array_2D"
   ]
  },
  {
   "cell_type": "code",
   "execution_count": 16,
   "id": "86cc250a-ac85-4fc4-b162-b843cfde0e56",
   "metadata": {},
   "outputs": [
    {
     "data": {
      "text/plain": [
       "array([[[ 1,  2,  3,  4,  5],\n",
       "        [11, 21, 31, 41, 51]],\n",
       "\n",
       "       [[11, 12, 13, 14, 15],\n",
       "        [51, 52, 53, 54,  5]]])"
      ]
     },
     "execution_count": 16,
     "metadata": {},
     "output_type": "execute_result"
    }
   ],
   "source": [
    "array_3D"
   ]
  },
  {
   "cell_type": "code",
   "execution_count": 20,
   "id": "4de2f0e4-0099-4d0f-a05b-3ed51f697cde",
   "metadata": {},
   "outputs": [
    {
     "data": {
      "text/plain": [
       "10"
      ]
     },
     "execution_count": 20,
     "metadata": {},
     "output_type": "execute_result"
    }
   ],
   "source": [
    "array_1D[0]"
   ]
  },
  {
   "cell_type": "code",
   "execution_count": 24,
   "id": "249dbef1-b8ff-4be1-9928-f21de2bfaa89",
   "metadata": {},
   "outputs": [
    {
     "data": {
      "text/plain": [
       "array([20, 30, 40, 50, 60])"
      ]
     },
     "execution_count": 24,
     "metadata": {},
     "output_type": "execute_result"
    }
   ],
   "source": [
    "array_2D[0]"
   ]
  },
  {
   "cell_type": "code",
   "execution_count": 25,
   "id": "a4afcce9-1e61-46c4-bb10-80811fc3c632",
   "metadata": {},
   "outputs": [
    {
     "data": {
      "text/plain": [
       "array([[ 1,  2,  3,  4,  5],\n",
       "       [11, 21, 31, 41, 51]])"
      ]
     },
     "execution_count": 25,
     "metadata": {},
     "output_type": "execute_result"
    }
   ],
   "source": [
    "array_3D[0]"
   ]
  },
  {
   "cell_type": "code",
   "execution_count": 26,
   "id": "6a78d5cd-fd9d-4fa6-b64b-f3ccc109a158",
   "metadata": {},
   "outputs": [
    {
     "data": {
      "text/plain": [
       "20"
      ]
     },
     "execution_count": 26,
     "metadata": {},
     "output_type": "execute_result"
    }
   ],
   "source": [
    "array_2D[0, 0]"
   ]
  },
  {
   "cell_type": "code",
   "execution_count": 27,
   "id": "e68c4a9e-936e-41cb-9b02-3758b23f05be",
   "metadata": {},
   "outputs": [
    {
     "data": {
      "text/plain": [
       "1"
      ]
     },
     "execution_count": 27,
     "metadata": {},
     "output_type": "execute_result"
    }
   ],
   "source": [
    "array_3D[0, 0, 0]"
   ]
  },
  {
   "cell_type": "code",
   "execution_count": 30,
   "id": "c4652038-84b3-45ea-b8ad-88906cf6631f",
   "metadata": {},
   "outputs": [
    {
     "data": {
      "text/plain": [
       "14"
      ]
     },
     "execution_count": 30,
     "metadata": {},
     "output_type": "execute_result"
    }
   ],
   "source": [
    "array_1D[-1]"
   ]
  },
  {
   "cell_type": "code",
   "execution_count": 32,
   "id": "7b936d94-4644-4523-a5d5-a44661c95fec",
   "metadata": {},
   "outputs": [
    {
     "data": {
      "text/plain": [
       "array([11, 22, 33, 44, 55])"
      ]
     },
     "execution_count": 32,
     "metadata": {},
     "output_type": "execute_result"
    }
   ],
   "source": [
    "array_2D[-1]"
   ]
  },
  {
   "cell_type": "code",
   "execution_count": 33,
   "id": "83d0e64d-1c01-43ec-bf45-f1e6a5744056",
   "metadata": {},
   "outputs": [
    {
     "data": {
      "text/plain": [
       "array([[11, 12, 13, 14, 15],\n",
       "       [51, 52, 53, 54,  5]])"
      ]
     },
     "execution_count": 33,
     "metadata": {},
     "output_type": "execute_result"
    }
   ],
   "source": [
    "array_3D[-1]"
   ]
  },
  {
   "cell_type": "code",
   "execution_count": 44,
   "id": "7b508d14-bfaa-4f26-92e3-751925b7555e",
   "metadata": {},
   "outputs": [
    {
     "name": "stdout",
     "output_type": "stream",
     "text": [
      "[10 11 12 10 14]\n"
     ]
    }
   ],
   "source": [
    "array_1D[-2] = 10\n",
    "print(array_1D)"
   ]
  },
  {
   "cell_type": "code",
   "execution_count": 45,
   "id": "ce759d31-3590-4570-a585-78c53e15c10d",
   "metadata": {},
   "outputs": [
    {
     "name": "stdout",
     "output_type": "stream",
     "text": [
      "[[20 30 40 50 60]\n",
      " [43 54 65 76 87]\n",
      " [11 22 33 10 55]]\n"
     ]
    }
   ],
   "source": [
    "array_2D[-1, -2] = 10\n",
    "print(array_2D)"
   ]
  },
  {
   "cell_type": "code",
   "execution_count": 46,
   "id": "3d08162f-2782-4ac2-86a6-8d6e68ad9b85",
   "metadata": {},
   "outputs": [
    {
     "name": "stdout",
     "output_type": "stream",
     "text": [
      "[[[ 1  2  3  4  5]\n",
      "  [11 21 31 41 51]]\n",
      "\n",
      " [[11 12 13 14 15]\n",
      "  [51 52 53 10  5]]]\n"
     ]
    }
   ],
   "source": [
    "array_3D[-1, -1, -2] = 10\n",
    "print(array_3D)"
   ]
  },
  {
   "cell_type": "code",
   "execution_count": 47,
   "id": "859aed34-0767-4794-8847-939423d73cee",
   "metadata": {},
   "outputs": [
    {
     "data": {
      "text/plain": [
       "array([[20, 30, 40, 50, 60],\n",
       "       [43, 54, 65, 76, 87],\n",
       "       [11, 22, 33, 10, 55]])"
      ]
     },
     "execution_count": 47,
     "metadata": {},
     "output_type": "execute_result"
    }
   ],
   "source": [
    "array_2D"
   ]
  },
  {
   "cell_type": "code",
   "execution_count": 63,
   "id": "d33a5211-532d-44f0-9b06-6b2fb8df799f",
   "metadata": {},
   "outputs": [
    {
     "data": {
      "text/plain": [
       "array([[20, 30, 40, 50, 60],\n",
       "       [43, 54, 65, 76, 87],\n",
       "       [11, 22, 33, 10, 55]])"
      ]
     },
     "execution_count": 63,
     "metadata": {},
     "output_type": "execute_result"
    }
   ],
   "source": [
    "array_2D"
   ]
  },
  {
   "cell_type": "code",
   "execution_count": 69,
   "id": "53288ec2-e3fe-4d80-9d97-239680786c68",
   "metadata": {},
   "outputs": [
    {
     "data": {
      "text/plain": [
       "array([[ 20,  30,  40,  50, 100],\n",
       "       [ 43,  54,  65,  76, 100],\n",
       "       [ 11,  22,  33,  10, 100]])"
      ]
     },
     "execution_count": 69,
     "metadata": {},
     "output_type": "execute_result"
    }
   ],
   "source": [
    "array_2D[:, -1] = 100\n",
    "array_2D"
   ]
  },
  {
   "cell_type": "code",
   "execution_count": 70,
   "id": "b4a3f0cc-b0de-407b-b056-ae370c11a657",
   "metadata": {},
   "outputs": [
    {
     "data": {
      "text/plain": [
       "array([[[ 1,  2,  3,  4,  5],\n",
       "        [11, 21, 31, 41, 51]],\n",
       "\n",
       "       [[11, 12, 13, 14, 15],\n",
       "        [51, 52, 53, 10,  5]]])"
      ]
     },
     "execution_count": 70,
     "metadata": {},
     "output_type": "execute_result"
    }
   ],
   "source": [
    "array_3D"
   ]
  },
  {
   "cell_type": "code",
   "execution_count": 72,
   "id": "acf8c871-7209-4c3d-9921-9576c65a139d",
   "metadata": {},
   "outputs": [],
   "source": [
    "array_3D[:,:,:] = 1000"
   ]
  },
  {
   "cell_type": "code",
   "execution_count": 73,
   "id": "9b4bd3b3-95ef-4502-8338-8ebb6a073067",
   "metadata": {},
   "outputs": [
    {
     "data": {
      "text/plain": [
       "array([[[1000, 1000, 1000, 1000, 1000],\n",
       "        [1000, 1000, 1000, 1000, 1000]],\n",
       "\n",
       "       [[1000, 1000, 1000, 1000, 1000],\n",
       "        [1000, 1000, 1000, 1000, 1000]]])"
      ]
     },
     "execution_count": 73,
     "metadata": {},
     "output_type": "execute_result"
    }
   ],
   "source": [
    "array_3D"
   ]
  },
  {
   "cell_type": "code",
   "execution_count": 74,
   "id": "bbc15b81-0cb2-4318-83e2-fb65a9de65b8",
   "metadata": {},
   "outputs": [
    {
     "data": {
      "text/plain": [
       "array([[ 20,  30,  40,  50, 100],\n",
       "       [ 43,  54,  65,  76, 100],\n",
       "       [ 11,  22,  33,  10, 100]])"
      ]
     },
     "execution_count": 74,
     "metadata": {},
     "output_type": "execute_result"
    }
   ],
   "source": [
    "array_2D"
   ]
  },
  {
   "cell_type": "code",
   "execution_count": 75,
   "id": "8a6b8a27-4d85-4971-ad7a-af9db5823d4f",
   "metadata": {},
   "outputs": [
    {
     "data": {
      "text/plain": [
       "array([[ 22,  32,  42,  52, 102],\n",
       "       [ 45,  56,  67,  78, 102],\n",
       "       [ 13,  24,  35,  12, 102]])"
      ]
     },
     "execution_count": 75,
     "metadata": {},
     "output_type": "execute_result"
    }
   ],
   "source": [
    "array_2D+2"
   ]
  },
  {
   "cell_type": "code",
   "execution_count": 76,
   "id": "3640b893-ddd5-469a-8c09-fae126a59e1f",
   "metadata": {},
   "outputs": [
    {
     "data": {
      "text/plain": [
       "array([[ 20,  30,  40,  50, 100],\n",
       "       [ 43,  54,  65,  76, 100],\n",
       "       [ 11,  22,  33,  10, 100]])"
      ]
     },
     "execution_count": 76,
     "metadata": {},
     "output_type": "execute_result"
    }
   ],
   "source": [
    "array_2D"
   ]
  },
  {
   "cell_type": "code",
   "execution_count": 77,
   "id": "f232ea44-8750-41d4-86cb-43c8e925bb2c",
   "metadata": {},
   "outputs": [
    {
     "data": {
      "text/plain": [
       "array([[[1000, 1000, 1000, 1000, 1000],\n",
       "        [1000, 1000, 1000, 1000, 1000]],\n",
       "\n",
       "       [[1000, 1000, 1000, 1000, 1000],\n",
       "        [1000, 1000, 1000, 1000, 1000]]])"
      ]
     },
     "execution_count": 77,
     "metadata": {},
     "output_type": "execute_result"
    }
   ],
   "source": [
    "array_3D"
   ]
  },
  {
   "cell_type": "code",
   "execution_count": 79,
   "id": "f4ab227a-9043-4ef6-b327-9e5f537f0216",
   "metadata": {},
   "outputs": [
    {
     "name": "stdout",
     "output_type": "stream",
     "text": [
      "[[[ 100  200  300  400  500]\n",
      "  [1100 2100 3100 4100 5100]]\n",
      "\n",
      " [[1100 1200 1300 1400 1500]\n",
      "  [5100 5200 5300 5400  500]]]\n"
     ]
    }
   ],
   "source": [
    "array_3D = np.array([[[1,2,3,4,5], [11,21,31,41,51]], [[11,12,13,14,15], [51,52,53,54,5]]])\n",
    "print(array_3D*100)"
   ]
  },
  {
   "cell_type": "code",
   "execution_count": 80,
   "id": "6b72e4f5-cf14-4fb3-95b5-6490ae79af71",
   "metadata": {},
   "outputs": [],
   "source": [
    "array_1D = np.array([10,11,12,13,14])\n",
    "array_2D = np.array([[20,30,40,50,60], [43,54,65,76,87], [11,22,33,44,55]])\n",
    "array_3D = np.array([[[1,2,3,4,5], [11,21,31,41,51]], [[11,12,13,14,15], [51,52,53,54,5]]])"
   ]
  },
  {
   "cell_type": "code",
   "execution_count": 81,
   "id": "2b54cdeb-fa59-4aa0-a198-958b2486b3e0",
   "metadata": {},
   "outputs": [
    {
     "data": {
      "text/plain": [
       "array([30, 41, 52, 63, 74])"
      ]
     },
     "execution_count": 81,
     "metadata": {},
     "output_type": "execute_result"
    }
   ],
   "source": [
    "print(array_1D + array_2D[0])"
   ]
  },
  {
   "cell_type": "code",
   "execution_count": 86,
   "id": "c8fa4f9c-6a5d-4ca7-9c6f-101614251c10",
   "metadata": {},
   "outputs": [
    {
     "name": "stdout",
     "output_type": "stream",
     "text": [
      "[ 430  594  780  988 1218]\n"
     ]
    }
   ],
   "source": [
    "print(array_1D * array_2D[1])"
   ]
  },
  {
   "cell_type": "code",
   "execution_count": 87,
   "id": "84a40ca6-076d-4dae-afe5-ee239e497293",
   "metadata": {},
   "outputs": [
    {
     "name": "stdout",
     "output_type": "stream",
     "text": [
      "[-40 -30 -20 -10  50]\n"
     ]
    }
   ],
   "source": [
    "print(array_2D[2] - array_3D[1, 1])"
   ]
  },
  {
   "cell_type": "code",
   "execution_count": 92,
   "id": "a7bd7b73-0919-496c-9dfc-9d474fd6ea04",
   "metadata": {},
   "outputs": [],
   "source": [
    "array_1D = np.array([10,11,12,13,14], dtype = str)\n",
    "array_2D = np.array([[20,30,40,50,60], [43,54,65,76,87], [11,22,33,44,55]], dtype = float)"
   ]
  },
  {
   "cell_type": "code",
   "execution_count": 90,
   "id": "7330fc93-c484-44d7-ad82-98fe7c1f591f",
   "metadata": {},
   "outputs": [
    {
     "data": {
      "text/plain": [
       "array(['10', '11', '12', '13', '14'], dtype='<U2')"
      ]
     },
     "execution_count": 90,
     "metadata": {},
     "output_type": "execute_result"
    }
   ],
   "source": [
    "array_1D"
   ]
  },
  {
   "cell_type": "code",
   "execution_count": 93,
   "id": "5b00f768-daad-4af8-a2c8-3ad792e00701",
   "metadata": {},
   "outputs": [
    {
     "data": {
      "text/plain": [
       "array([[20., 30., 40., 50., 60.],\n",
       "       [43., 54., 65., 76., 87.],\n",
       "       [11., 22., 33., 44., 55.]])"
      ]
     },
     "execution_count": 93,
     "metadata": {},
     "output_type": "execute_result"
    }
   ],
   "source": [
    "array_2D"
   ]
  },
  {
   "cell_type": "code",
   "execution_count": 96,
   "id": "3a68f438-03ed-491a-a275-4a8c4d959d59",
   "metadata": {},
   "outputs": [],
   "source": [
    "array_1D = np.array([10,11,12,13,14], dtype = str)\n",
    "array_2D = np.array([[20,30,40,50,60], [43,54,65,76,87], [11,22,33,44,55]], dtype = np.float32)"
   ]
  },
  {
   "cell_type": "code",
   "execution_count": 97,
   "id": "09eef237-b5ac-4811-adaa-24807ac95356",
   "metadata": {},
   "outputs": [
    {
     "data": {
      "text/plain": [
       "array(['10', '11', '12', '13', '14'], dtype='<U2')"
      ]
     },
     "execution_count": 97,
     "metadata": {},
     "output_type": "execute_result"
    }
   ],
   "source": [
    "array_1D"
   ]
  },
  {
   "cell_type": "code",
   "execution_count": 98,
   "id": "87463918-4e8a-4152-964b-dc0800816c44",
   "metadata": {},
   "outputs": [
    {
     "data": {
      "text/plain": [
       "array([[20., 30., 40., 50., 60.],\n",
       "       [43., 54., 65., 76., 87.],\n",
       "       [11., 22., 33., 44., 55.]], dtype=float32)"
      ]
     },
     "execution_count": 98,
     "metadata": {},
     "output_type": "execute_result"
    }
   ],
   "source": [
    "array_2D"
   ]
  },
  {
   "cell_type": "code",
   "execution_count": 100,
   "id": "8df5d453-cb70-4a01-b8c7-def4d88ac082",
   "metadata": {},
   "outputs": [],
   "source": [
    "array_1D = np.array([10,11,12,13,14], dtype = np.float32)\n",
    "array_3D = np.array([[[1,2,3,4,5], [11,21,31,41,51]], [[11,12,13,14,15], [51,52,53,54,5]]], dtype = np.float32)"
   ]
  },
  {
   "cell_type": "code",
   "execution_count": 101,
   "id": "97195993-a4cf-42c5-ba9e-2e74abccd5b5",
   "metadata": {},
   "outputs": [
    {
     "data": {
      "text/plain": [
       "array([[[0.1       , 0.18181819, 0.25      , 0.30769232, 0.35714287],\n",
       "        [1.1       , 1.9090909 , 2.5833333 , 3.1538463 , 3.642857  ]],\n",
       "\n",
       "       [[1.1       , 1.0909091 , 1.0833334 , 1.0769231 , 1.0714285 ],\n",
       "        [5.1       , 4.7272725 , 4.4166665 , 4.1538463 , 0.35714287]]],\n",
       "      dtype=float32)"
      ]
     },
     "execution_count": 101,
     "metadata": {},
     "output_type": "execute_result"
    }
   ],
   "source": [
    "array_3D / array_1D"
   ]
  },
  {
   "cell_type": "code",
   "execution_count": 102,
   "id": "11593542-5b5e-47d8-84a8-0ea52eeb953e",
   "metadata": {},
   "outputs": [],
   "source": [
    "array_2D = np.array([[20,30,40,50,60], [43,54,65,76,87], [11,22,33,44,55]], dtype = np.float32)\n",
    "array_3D = np.array([[[1,2,3,4,5], [11,21,31,41,51]], [[11,12,13,14,15], [51,52,53,54,5]]], dtype = np.float32)"
   ]
  },
  {
   "cell_type": "code",
   "execution_count": 103,
   "id": "b63f4ce2-8087-4a86-b5e5-c31d52f78557",
   "metadata": {},
   "outputs": [
    {
     "data": {
      "text/plain": [
       "array([[20., 30., 40., 50., 60.],\n",
       "       [43., 54., 65., 76., 87.],\n",
       "       [11., 22., 33., 44., 55.]], dtype=float32)"
      ]
     },
     "execution_count": 103,
     "metadata": {},
     "output_type": "execute_result"
    }
   ],
   "source": [
    "array_2D"
   ]
  },
  {
   "cell_type": "code",
   "execution_count": 108,
   "id": "ce6a4ba4-aebd-421e-bf6f-42504dc959eb",
   "metadata": {},
   "outputs": [
    {
     "data": {
      "text/plain": [
       "array([24, 35, 46, 56, 67], dtype=int64)"
      ]
     },
     "execution_count": 108,
     "metadata": {},
     "output_type": "execute_result"
    }
   ],
   "source": [
    "np.mean(array_2D, axis = 0, dtype = np.int64)"
   ]
  },
  {
   "cell_type": "code",
   "execution_count": 107,
   "id": "d47b1192-4a00-4b6f-9c90-39fa8c369d95",
   "metadata": {},
   "outputs": [
    {
     "data": {
      "text/plain": [
       "array([[ 6. ,  7. ,  8. ,  9. , 10. ],\n",
       "       [31. , 36.5, 42. , 47.5, 28. ]], dtype=float32)"
      ]
     },
     "execution_count": 107,
     "metadata": {},
     "output_type": "execute_result"
    }
   ],
   "source": [
    "np.mean(array_3D, axis = 0)"
   ]
  },
  {
   "cell_type": "code",
   "execution_count": 109,
   "id": "5930d215-bd9f-4013-a5c9-d527bd708d1e",
   "metadata": {},
   "outputs": [
    {
     "data": {
      "text/plain": [
       "array([[[ 1.,  2.,  3.,  4.,  5.],\n",
       "        [11., 21., 31., 41., 51.]],\n",
       "\n",
       "       [[11., 12., 13., 14., 15.],\n",
       "        [51., 52., 53., 54.,  5.]]], dtype=float32)"
      ]
     },
     "execution_count": 109,
     "metadata": {},
     "output_type": "execute_result"
    }
   ],
   "source": [
    "array_3D"
   ]
  },
  {
   "cell_type": "code",
   "execution_count": 110,
   "id": "235ef099-7b73-4477-9437-7bcb1593568f",
   "metadata": {},
   "outputs": [
    {
     "data": {
      "text/plain": [
       "array([10, 11, 12, 13, 14])"
      ]
     },
     "execution_count": 110,
     "metadata": {},
     "output_type": "execute_result"
    }
   ],
   "source": [
    "array_1D = np.array([10,11,12,13, 14])\n",
    "array_1D"
   ]
  },
  {
   "cell_type": "code",
   "execution_count": 111,
   "id": "3da5725e-c7d7-4e23-bf0e-a2a3845502df",
   "metadata": {},
   "outputs": [],
   "source": [
    "array_2D = np.array([[20,30,40,50,60], [43,54,65,76,87], [11,22,33,44,55]])"
   ]
  },
  {
   "cell_type": "code",
   "execution_count": 112,
   "id": "bf776b20-793a-4e09-9e09-3571d923cb1b",
   "metadata": {},
   "outputs": [
    {
     "data": {
      "text/plain": [
       "array([[20, 30, 40, 50, 60],\n",
       "       [43, 54, 65, 76, 87],\n",
       "       [11, 22, 33, 44, 55]])"
      ]
     },
     "execution_count": 112,
     "metadata": {},
     "output_type": "execute_result"
    }
   ],
   "source": [
    "array_2D"
   ]
  },
  {
   "cell_type": "code",
   "execution_count": 113,
   "id": "4cd921d7-e3d5-41ef-8186-09e98390aa50",
   "metadata": {},
   "outputs": [
    {
     "data": {
      "text/plain": [
       "array([[[ 1,  2,  3,  4,  5],\n",
       "        [11, 21, 31, 41, 51]],\n",
       "\n",
       "       [[11, 12, 13, 14, 15],\n",
       "        [51, 52, 53, 54,  5]]])"
      ]
     },
     "execution_count": 113,
     "metadata": {},
     "output_type": "execute_result"
    }
   ],
   "source": [
    "array_3D = np.array([[[1,2,3,4,5], [11,21,31,41,51]], [[11,12,13,14,15], [51,52,53,54,5]]])\n",
    "array_3D"
   ]
  },
  {
   "cell_type": "code",
   "execution_count": 114,
   "id": "d39ccbe7-98f0-4169-91c1-62e676ad4113",
   "metadata": {},
   "outputs": [
    {
     "data": {
      "text/plain": [
       "array([1, 2, 3, 4, 5, 6, 7, 8])"
      ]
     },
     "execution_count": 114,
     "metadata": {},
     "output_type": "execute_result"
    }
   ],
   "source": [
    "array_hw_1 = np.array([1, 2, 3, 4, 5, 6, 7, 8])\n",
    "array_hw_1"
   ]
  },
  {
   "cell_type": "code",
   "execution_count": 116,
   "id": "1a8de3b6-3f11-42f8-98d4-5c41ef1989af",
   "metadata": {},
   "outputs": [
    {
     "data": {
      "text/plain": [
       "numpy.ndarray"
      ]
     },
     "execution_count": 116,
     "metadata": {},
     "output_type": "execute_result"
    }
   ],
   "source": [
    "type(array_hw_1)"
   ]
  },
  {
   "cell_type": "code",
   "execution_count": 118,
   "id": "9d264961-b43f-4de1-bd2e-d91ab7c4ca1c",
   "metadata": {},
   "outputs": [
    {
     "data": {
      "text/plain": [
       "(8,)"
      ]
     },
     "execution_count": 118,
     "metadata": {},
     "output_type": "execute_result"
    }
   ],
   "source": [
    "array_hw_1.shape"
   ]
  },
  {
   "cell_type": "code",
   "execution_count": 119,
   "id": "a740676f-c37e-4109-80b9-b7cafb0ffa5e",
   "metadata": {},
   "outputs": [
    {
     "data": {
      "text/plain": [
       "8"
      ]
     },
     "execution_count": 119,
     "metadata": {},
     "output_type": "execute_result"
    }
   ],
   "source": [
    "array_hw_1.size"
   ]
  },
  {
   "cell_type": "code",
   "execution_count": 120,
   "id": "10f55dec-973c-4f60-a7db-7ea053790533",
   "metadata": {},
   "outputs": [
    {
     "data": {
      "text/plain": [
       "array([[1, 2, 3, 4],\n",
       "       [5, 6, 7, 8]])"
      ]
     },
     "execution_count": 120,
     "metadata": {},
     "output_type": "execute_result"
    }
   ],
   "source": [
    "array_hw_2 = np.array([[1, 2, 3, 4],[5, 6, 7, 8]])\n",
    "array_hw_2"
   ]
  },
  {
   "cell_type": "code",
   "execution_count": 122,
   "id": "47f5ba2b-8499-4baa-874f-371118464f23",
   "metadata": {},
   "outputs": [
    {
     "data": {
      "text/plain": [
       "numpy.ndarray"
      ]
     },
     "execution_count": 122,
     "metadata": {},
     "output_type": "execute_result"
    }
   ],
   "source": [
    "type(array_hw_2)"
   ]
  },
  {
   "cell_type": "code",
   "execution_count": 123,
   "id": "84bca237-2a49-4ba1-ac62-0ce1a9be37c8",
   "metadata": {},
   "outputs": [
    {
     "data": {
      "text/plain": [
       "(2, 4)"
      ]
     },
     "execution_count": 123,
     "metadata": {},
     "output_type": "execute_result"
    }
   ],
   "source": [
    "array_hw_2.shape"
   ]
  },
  {
   "cell_type": "code",
   "execution_count": 124,
   "id": "d007805a-feea-4c93-989a-ebd97b01c7d3",
   "metadata": {},
   "outputs": [
    {
     "data": {
      "text/plain": [
       "8"
      ]
     },
     "execution_count": 124,
     "metadata": {},
     "output_type": "execute_result"
    }
   ],
   "source": [
    "array_hw_2.size"
   ]
  },
  {
   "cell_type": "code",
   "execution_count": 125,
   "id": "f93330cb-4e9e-48cf-9620-f60121f911f7",
   "metadata": {},
   "outputs": [
    {
     "data": {
      "text/plain": [
       "array([[[1, 2, 3, 4],\n",
       "        [5, 6, 7, 8]]])"
      ]
     },
     "execution_count": 125,
     "metadata": {},
     "output_type": "execute_result"
    }
   ],
   "source": [
    "array_hw_3 = np.array([[[1, 2, 3, 4], [5, 6, 7, 8]]])\n",
    "array_hw_3"
   ]
  },
  {
   "cell_type": "code",
   "execution_count": 126,
   "id": "dc0bf4e5-5003-4b26-888f-3e0e0d00aacc",
   "metadata": {},
   "outputs": [
    {
     "data": {
      "text/plain": [
       "numpy.ndarray"
      ]
     },
     "execution_count": 126,
     "metadata": {},
     "output_type": "execute_result"
    }
   ],
   "source": [
    "type(array_hw_3)"
   ]
  },
  {
   "cell_type": "code",
   "execution_count": 127,
   "id": "04c16d46-6ea4-4cb6-bea9-eb60936e05d3",
   "metadata": {},
   "outputs": [
    {
     "data": {
      "text/plain": [
       "(1, 2, 4)"
      ]
     },
     "execution_count": 127,
     "metadata": {},
     "output_type": "execute_result"
    }
   ],
   "source": [
    "array_hw_3.shape"
   ]
  },
  {
   "cell_type": "code",
   "execution_count": 128,
   "id": "e445a40d-b03a-4c34-b096-6205e547cfc9",
   "metadata": {},
   "outputs": [
    {
     "data": {
      "text/plain": [
       "8"
      ]
     },
     "execution_count": 128,
     "metadata": {},
     "output_type": "execute_result"
    }
   ],
   "source": [
    "array_hw_3.size"
   ]
  },
  {
   "cell_type": "code",
   "execution_count": 129,
   "id": "700d9ff9-ecb7-451a-be01-6a6eee696465",
   "metadata": {},
   "outputs": [],
   "source": [
    "array_2D = np.array([[20,30,40,50,60], [43,54,65,76,87], [11,22,33,44,55]], dtype = np.float32)"
   ]
  },
  {
   "cell_type": "code",
   "execution_count": 130,
   "id": "cb78d93e-0c0c-4b7d-9de5-fc676abba514",
   "metadata": {},
   "outputs": [
    {
     "data": {
      "text/plain": [
       "array([[20., 30., 40., 50., 60.],\n",
       "       [43., 54., 65., 76., 87.],\n",
       "       [11., 22., 33., 44., 55.]], dtype=float32)"
      ]
     },
     "execution_count": 130,
     "metadata": {},
     "output_type": "execute_result"
    }
   ],
   "source": [
    "array_2D"
   ]
  },
  {
   "cell_type": "code",
   "execution_count": 165,
   "id": "eb3c885c-dd0b-400f-b624-fa2d9e7c8f47",
   "metadata": {},
   "outputs": [
    {
     "name": "stdout",
     "output_type": "stream",
     "text": [
      "[20. 43. 11.]\n"
     ]
    }
   ],
   "source": [
    "#1. Slice the first column of the 2D array.\n",
    "print(array_2D[:, :1].squeeze())"
   ]
  },
  {
   "cell_type": "code",
   "execution_count": 151,
   "id": "34a92c28-9743-4a08-838b-123b1f461ccc",
   "metadata": {},
   "outputs": [
    {
     "data": {
      "text/plain": [
       "array([[60.],\n",
       "       [87.],\n",
       "       [55.]], dtype=float32)"
      ]
     },
     "execution_count": 151,
     "metadata": {},
     "output_type": "execute_result"
    }
   ],
   "source": [
    "# Slice the last column of the 2D array.\n",
    "array_2D[:, -1:]"
   ]
  },
  {
   "cell_type": "code",
   "execution_count": 152,
   "id": "b3da60e5-da62-4e70-94c0-dcd7f84deb49",
   "metadata": {},
   "outputs": [
    {
     "data": {
      "text/plain": [
       "array([[43., 54., 65., 76., 87.]], dtype=float32)"
      ]
     },
     "execution_count": 152,
     "metadata": {},
     "output_type": "execute_result"
    }
   ],
   "source": [
    "#  Slice the second row of the 2D array.\n",
    "array_2D[1:2, :]"
   ]
  },
  {
   "cell_type": "code",
   "execution_count": 155,
   "id": "6aafcaf2-2bcc-45c1-b87f-f5c3e5afa50c",
   "metadata": {},
   "outputs": [
    {
     "data": {
      "text/plain": [
       "array([[76., 87.]], dtype=float32)"
      ]
     },
     "execution_count": 155,
     "metadata": {},
     "output_type": "execute_result"
    }
   ],
   "source": [
    "#4. Slice the last two columns of the second row of the 2D array.\n",
    "array_2D[1:2, -2:]"
   ]
  },
  {
   "cell_type": "code",
   "execution_count": 157,
   "id": "592c8c71-d03d-4a61-823a-643263173e26",
   "metadata": {},
   "outputs": [
    {
     "data": {
      "text/plain": [
       "array([[43., 54., 65.]], dtype=float32)"
      ]
     },
     "execution_count": 157,
     "metadata": {},
     "output_type": "execute_result"
    }
   ],
   "source": [
    "# 5. Slice the second row of the 2D array excluding the last two columns\n",
    "array_2D[1:2, :-2]"
   ]
  },
  {
   "cell_type": "code",
   "execution_count": 160,
   "id": "40bca571-7421-4efe-99d2-097063dfd9cc",
   "metadata": {},
   "outputs": [
    {
     "data": {
      "text/plain": [
       "array([[43., 54., 65., 76.],\n",
       "       [11., 22., 33., 44.]], dtype=float32)"
      ]
     },
     "execution_count": 160,
     "metadata": {},
     "output_type": "execute_result"
    }
   ],
   "source": [
    "# 6. Slice everything except the first row and last column of the 2D array.\n",
    "array_2D[1:, :-1]"
   ]
  },
  {
   "cell_type": "code",
   "execution_count": 162,
   "id": "bb372c3a-0caf-4e13-9c35-fe3e7b4d00cd",
   "metadata": {},
   "outputs": [
    {
     "data": {
      "text/plain": [
       "array([[20., 40., 60.],\n",
       "       [43., 65., 87.],\n",
       "       [11., 33., 55.]], dtype=float32)"
      ]
     },
     "execution_count": 162,
     "metadata": {},
     "output_type": "execute_result"
    }
   ],
   "source": [
    "# 7. Slice the 1st, 3rd and 5th columns of the 2D array.\n",
    "array_2D[:, ::2]"
   ]
  },
  {
   "cell_type": "code",
   "execution_count": 166,
   "id": "6737740a-e406-4744-8a07-0106da40cbb2",
   "metadata": {},
   "outputs": [],
   "source": [
    "array_3D = np.array([[[1,2,3,4,5], [11,21,31,41,51]], [[11,12,13,14,15], [51,52,53,54,5]]])"
   ]
  },
  {
   "cell_type": "code",
   "execution_count": 167,
   "id": "050d5c9f-a246-4981-8a5e-9cc3103e17c4",
   "metadata": {},
   "outputs": [
    {
     "data": {
      "text/plain": [
       "array([[[ 1,  2,  3,  4,  5],\n",
       "        [11, 21, 31, 41, 51]],\n",
       "\n",
       "       [[11, 12, 13, 14, 15],\n",
       "        [51, 52, 53, 54,  5]]])"
      ]
     },
     "execution_count": 167,
     "metadata": {},
     "output_type": "execute_result"
    }
   ],
   "source": [
    "array_3D"
   ]
  },
  {
   "cell_type": "code",
   "execution_count": 170,
   "id": "b4a0e100-2e66-4df1-8381-0986b12f487f",
   "metadata": {},
   "outputs": [
    {
     "data": {
      "text/plain": [
       "array([[ 1, 11],\n",
       "       [11, 51]])"
      ]
     },
     "execution_count": 170,
     "metadata": {},
     "output_type": "execute_result"
    }
   ],
   "source": [
    "# 1. Slice the first column of both matrices in the 3D array.\n",
    "array_3D[:, :, :1].squeeze()"
   ]
  },
  {
   "cell_type": "code",
   "execution_count": 172,
   "id": "60c01a54-06d5-4e18-ba7a-97164a3c5925",
   "metadata": {},
   "outputs": [
    {
     "data": {
      "text/plain": [
       "array([[[ 1,  3,  5],\n",
       "        [11, 31, 51]],\n",
       "\n",
       "       [[11, 13, 15],\n",
       "        [51, 53,  5]]])"
      ]
     },
     "execution_count": 172,
     "metadata": {},
     "output_type": "execute_result"
    }
   ],
   "source": [
    "# 2. Slice every other column of both matrices in the 3D array.\n",
    "array_3D[:, :, ::2].squeeze()"
   ]
  },
  {
   "cell_type": "code",
   "execution_count": 174,
   "id": "0ebbe758-5675-4132-81c7-3f60c34a5e2a",
   "metadata": {},
   "outputs": [],
   "source": [
    "array_1D = np.array([10,11,12,13,14])\n",
    "array_2D = np.array([[20,30,40,50,60], [43,54,65,76,87], [11,22,33,44,55]])\n",
    "array_3D = np.array([[[1,2,3,4,5], [11,21,31,41,51]], [[11,12,13,14,15], [51,52,53,54,5]]])"
   ]
  },
  {
   "cell_type": "code",
   "execution_count": 175,
   "id": "6c490ef1-462c-4dcd-8a4f-b9f5b73e2295",
   "metadata": {},
   "outputs": [
    {
     "data": {
      "text/plain": [
       "array([False,  True,  True,  True,  True])"
      ]
     },
     "execution_count": 175,
     "metadata": {},
     "output_type": "execute_result"
    }
   ],
   "source": [
    "# 1. Use a conditional expression on array_1D as the argument to the given print() function to check which elements are greater than 10.\n",
    "array_1D > 10"
   ]
  },
  {
   "cell_type": "code",
   "execution_count": 176,
   "id": "ebc4d332-7d49-4c77-8f7f-0ee8b3450e91",
   "metadata": {},
   "outputs": [
    {
     "data": {
      "text/plain": [
       "array([[ True,  True,  True,  True,  True],\n",
       "       [ True,  True,  True,  True,  True],\n",
       "       [ True,  True,  True,  True,  True]])"
      ]
     },
     "execution_count": 176,
     "metadata": {},
     "output_type": "execute_result"
    }
   ],
   "source": [
    "# 2. Use a conditional expression on array_2D as the argument to the given print() function to check which elements are greater than 10.\n",
    "array_2D > 10"
   ]
  },
  {
   "cell_type": "code",
   "execution_count": 177,
   "id": "968aa3ce-9945-42c4-bd27-ec83468e7e28",
   "metadata": {},
   "outputs": [
    {
     "data": {
      "text/plain": [
       "array([[[False, False, False, False, False],\n",
       "        [ True,  True,  True,  True,  True]],\n",
       "\n",
       "       [[ True,  True,  True,  True,  True],\n",
       "        [ True,  True,  True,  True, False]]])"
      ]
     },
     "execution_count": 177,
     "metadata": {},
     "output_type": "execute_result"
    }
   ],
   "source": [
    "# 3. Use a conditional expression on array_3D as the argument to the given print() function to check which elements are greater than 10.\n",
    "array_3D > 10"
   ]
  },
  {
   "cell_type": "code",
   "execution_count": 181,
   "id": "fd67b343-e84e-4b5e-826a-663f18dcd9ab",
   "metadata": {},
   "outputs": [
    {
     "data": {
      "text/plain": [
       "array([11, 12, 13, 14])"
      ]
     },
     "execution_count": 181,
     "metadata": {},
     "output_type": "execute_result"
    }
   ],
   "source": [
    "# 1. Use conditional slicing on array_1D as the argument to the given print() function to extract the elements greater than 10.\n",
    "array_1D[array_1D > 10]"
   ]
  },
  {
   "cell_type": "code",
   "execution_count": 182,
   "id": "362cb5f3-4f12-4740-85c3-37044610d283",
   "metadata": {},
   "outputs": [
    {
     "data": {
      "text/plain": [
       "array([20, 30, 40, 50, 60, 43, 54, 65, 76, 87, 11, 22, 33, 44, 55])"
      ]
     },
     "execution_count": 182,
     "metadata": {},
     "output_type": "execute_result"
    }
   ],
   "source": [
    "# 2. Use conditional slicing on array_2D as the argument to the given print() function to extract the elements greater than 10.\n",
    "array_2D[array_2D > 10]"
   ]
  },
  {
   "cell_type": "code",
   "execution_count": 183,
   "id": "bc296b16-dff3-4626-af07-cc6585f3c31b",
   "metadata": {},
   "outputs": [
    {
     "data": {
      "text/plain": [
       "array([11, 21, 31, 41, 51, 11, 12, 13, 14, 15, 51, 52, 53, 54])"
      ]
     },
     "execution_count": 183,
     "metadata": {},
     "output_type": "execute_result"
    }
   ],
   "source": [
    "# 3. Use conditional slicing on array_3D as the argument to the given print() function to extract the elements greater than 10.\n",
    "array_3D[array_3D > 10]"
   ]
  },
  {
   "cell_type": "code",
   "execution_count": 191,
   "id": "58af1ef9-7b62-4d2a-a25b-ba0945a606a0",
   "metadata": {},
   "outputs": [
    {
     "data": {
      "text/plain": [
       "array([11, 13])"
      ]
     },
     "execution_count": 191,
     "metadata": {},
     "output_type": "execute_result"
    }
   ],
   "source": [
    "# 1. Use conditional slicing on array_1D as the argument to the given print() function to extract the odd values greater than 10.\n",
    "array_1D[((array_1D > 10) & (array_1D % 2 == 1))]"
   ]
  },
  {
   "cell_type": "code",
   "execution_count": 192,
   "id": "4442d5f3-6730-4cdc-90d5-bedbf7445b55",
   "metadata": {},
   "outputs": [
    {
     "data": {
      "text/plain": [
       "array([43, 65, 87, 11, 33, 55])"
      ]
     },
     "execution_count": 192,
     "metadata": {},
     "output_type": "execute_result"
    }
   ],
   "source": [
    "# 2. Use conditional slicing on array_2D as the argument to the given print() function to extract the odd values greater than 10.\n",
    "array_2D[((array_2D > 10) & (array_2D % 2 == 1))]"
   ]
  },
  {
   "cell_type": "code",
   "execution_count": 193,
   "id": "ba39d50c-ba67-4efd-9d0b-3bcd976fa07d",
   "metadata": {},
   "outputs": [
    {
     "data": {
      "text/plain": [
       "array([11, 21, 31, 41, 51, 11, 13, 15, 51, 53])"
      ]
     },
     "execution_count": 193,
     "metadata": {},
     "output_type": "execute_result"
    }
   ],
   "source": [
    "# 3. Use conditional slicing on array_3D as the argument to the given print() function to extract the odd values greater than 10.\n",
    "array_3D[((array_3D > 10) & (array_3D % 2 == 1))]"
   ]
  },
  {
   "cell_type": "code",
   "execution_count": 195,
   "id": "3ab3fe8f-7957-4924-af45-b2af370f0f7b",
   "metadata": {},
   "outputs": [
    {
     "data": {
      "text/plain": [
       "array([11, 12, 13, 14])"
      ]
     },
     "execution_count": 195,
     "metadata": {},
     "output_type": "execute_result"
    }
   ],
   "source": [
    "# 1. Use conditional slicing on array_1D as the argument to the given print() function to extract the values that are either odd, greater than 10, or both.\n",
    "array_1D[((array_1D > 10) | (array_1D % 2 == 1))]"
   ]
  },
  {
   "cell_type": "code",
   "execution_count": 196,
   "id": "b30acff4-f380-419d-b6dd-05bcf198c7f3",
   "metadata": {},
   "outputs": [
    {
     "data": {
      "text/plain": [
       "array([20, 30, 40, 50, 60, 43, 54, 65, 76, 87, 11, 22, 33, 44, 55])"
      ]
     },
     "execution_count": 196,
     "metadata": {},
     "output_type": "execute_result"
    }
   ],
   "source": [
    "# 2. Use conditional slicing on array_2D as the argument to the given print() function to extract the values that are either odd, greater than 10, or both.\n",
    "array_2D[((array_2D > 10) | (array_2D % 2 == 1))]"
   ]
  },
  {
   "cell_type": "code",
   "execution_count": 197,
   "id": "f0984c26-d639-4ed2-9eb9-0b6edf378ee9",
   "metadata": {},
   "outputs": [
    {
     "data": {
      "text/plain": [
       "array([ 1,  3,  5, 11, 21, 31, 41, 51, 11, 12, 13, 14, 15, 51, 52, 53, 54,\n",
       "        5])"
      ]
     },
     "execution_count": 197,
     "metadata": {},
     "output_type": "execute_result"
    }
   ],
   "source": [
    "# 3. Use conditional slicing on array_3D as the argument to the given print() function to extract the values that are either odd, greater than 10, or both.\n",
    "array_3D[((array_3D > 10) | (array_3D % 2 == 1))]"
   ]
  },
  {
   "cell_type": "code",
   "execution_count": 198,
   "id": "ec6793ba-b9ae-4fa5-b3d5-be4a45d073e8",
   "metadata": {},
   "outputs": [],
   "source": [
    "array_3D = np.array([[[1,2,3,4,5], [11,21,31,41,51]], [[11,12,13,14,15], [51,52,53,54,5]]])"
   ]
  },
  {
   "cell_type": "code",
   "execution_count": 199,
   "id": "6556dd03-f90c-4a43-a28e-0531d8783b27",
   "metadata": {},
   "outputs": [
    {
     "data": {
      "text/plain": [
       "array([[[ 1,  2,  3,  4,  5],\n",
       "        [11, 21, 31, 41, 51]],\n",
       "\n",
       "       [[11, 12, 13, 14, 15],\n",
       "        [51, 52, 53, 54,  5]]])"
      ]
     },
     "execution_count": 199,
     "metadata": {},
     "output_type": "execute_result"
    }
   ],
   "source": [
    "array_3D"
   ]
  },
  {
   "cell_type": "code",
   "execution_count": 202,
   "id": "b8a482d9-df00-4403-91c0-1fa200937800",
   "metadata": {},
   "outputs": [
    {
     "data": {
      "text/plain": [
       "array([1, 2, 3, 4, 5])"
      ]
     },
     "execution_count": 202,
     "metadata": {},
     "output_type": "execute_result"
    }
   ],
   "source": [
    "# Access the first row of the first 2D array in array_3D using exact indices for both dimensions.\n",
    "array_3D[0, 0]"
   ]
  },
  {
   "cell_type": "code",
   "execution_count": 203,
   "id": "e04c037b-37f9-4ac3-975a-d72b7e8903ab",
   "metadata": {},
   "outputs": [
    {
     "data": {
      "text/plain": [
       "(5,)"
      ]
     },
     "execution_count": 203,
     "metadata": {},
     "output_type": "execute_result"
    }
   ],
   "source": [
    "# Check the shape of the resulting object.\n",
    "array_3D[0, 0].shape"
   ]
  },
  {
   "cell_type": "code",
   "execution_count": 216,
   "id": "249768a5-ea13-4924-b537-9f18524e7d5c",
   "metadata": {},
   "outputs": [
    {
     "data": {
      "text/plain": [
       "array([[1, 2, 3, 4, 5]])"
      ]
     },
     "execution_count": 216,
     "metadata": {},
     "output_type": "execute_result"
    }
   ],
   "source": [
    "array_3D[:1, 0]"
   ]
  },
  {
   "cell_type": "code",
   "execution_count": 217,
   "id": "5a440893-f5e9-4571-9d42-6fae2b3bb977",
   "metadata": {},
   "outputs": [
    {
     "data": {
      "text/plain": [
       "(1, 5)"
      ]
     },
     "execution_count": 217,
     "metadata": {},
     "output_type": "execute_result"
    }
   ],
   "source": [
    "array_3D[:1, 0].shape"
   ]
  },
  {
   "cell_type": "code",
   "execution_count": 218,
   "id": "2fdaf4a9-828d-42d7-b7d7-e2a9301a7b4f",
   "metadata": {},
   "outputs": [
    {
     "data": {
      "text/plain": [
       "array([[[1, 2, 3, 4, 5]]])"
      ]
     },
     "execution_count": 218,
     "metadata": {},
     "output_type": "execute_result"
    }
   ],
   "source": [
    "array_3D[:1, :1]"
   ]
  },
  {
   "cell_type": "code",
   "execution_count": 219,
   "id": "c8d25d5a-d229-4419-bbc4-ea5ea5899e9b",
   "metadata": {},
   "outputs": [
    {
     "data": {
      "text/plain": [
       "(1, 1, 5)"
      ]
     },
     "execution_count": 219,
     "metadata": {},
     "output_type": "execute_result"
    }
   ],
   "source": [
    "array_3D[:1, :1].shape"
   ]
  },
  {
   "cell_type": "code",
   "execution_count": 220,
   "id": "d34d77ab-2c58-4a62-bdc1-a96995cefcda",
   "metadata": {},
   "outputs": [
    {
     "data": {
      "text/plain": [
       "array([[1, 2, 3, 4, 5]])"
      ]
     },
     "execution_count": 220,
     "metadata": {},
     "output_type": "execute_result"
    }
   ],
   "source": [
    "array_3D[:1,0]"
   ]
  },
  {
   "cell_type": "code",
   "execution_count": 224,
   "id": "970c8e0a-c129-4f72-a08a-c00d95606ba6",
   "metadata": {},
   "outputs": [
    {
     "data": {
      "text/plain": [
       "(1, 5)"
      ]
     },
     "execution_count": 224,
     "metadata": {},
     "output_type": "execute_result"
    }
   ],
   "source": [
    "array_3D[:1,0].shape"
   ]
  },
  {
   "cell_type": "code",
   "execution_count": 222,
   "id": "7e5e60e8-f5ab-46be-a1dd-5d3659a7599e",
   "metadata": {},
   "outputs": [
    {
     "data": {
      "text/plain": [
       "array([1, 2, 3, 4, 5])"
      ]
     },
     "execution_count": 222,
     "metadata": {},
     "output_type": "execute_result"
    }
   ],
   "source": [
    "array_3D[:1,0].squeeze()"
   ]
  },
  {
   "cell_type": "code",
   "execution_count": 223,
   "id": "e9eaa4d3-92e7-4feb-bb52-db8c1968546d",
   "metadata": {},
   "outputs": [
    {
     "data": {
      "text/plain": [
       "(5,)"
      ]
     },
     "execution_count": 223,
     "metadata": {},
     "output_type": "execute_result"
    }
   ],
   "source": [
    "array_3D[:1,0].squeeze().shape"
   ]
  },
  {
   "cell_type": "code",
   "execution_count": 225,
   "id": "2f74c4c7-51af-4fde-833c-0388e2797551",
   "metadata": {},
   "outputs": [
    {
     "name": "stdout",
     "output_type": "stream",
     "text": [
      "[1 2 3 4 5]\n",
      "(5,)\n"
     ]
    }
   ],
   "source": [
    "#1.\n",
    "print(np.squeeze(array_3D[:1,0]))\n",
    "#2.\n",
    "print(np.squeeze(array_3D[:1,0]).shape)"
   ]
  },
  {
   "cell_type": "code",
   "execution_count": 231,
   "id": "f9cf8426-e2de-4bc9-b664-5cea0f814313",
   "metadata": {},
   "outputs": [
    {
     "data": {
      "text/plain": [
       "array([0, 1, 2, 3, 4, 5, 6, 7, 8], dtype=int8)"
      ]
     },
     "execution_count": 231,
     "metadata": {},
     "output_type": "execute_result"
    }
   ],
   "source": [
    "# Beginner Level From Chatgpt\n",
    "# 1. Create a 1D NumPy array of numbers from 0 to 9\n",
    "gpt_1D = np.arange(start = 0, stop = 9, dtype = np.int8)\n",
    "gpt_1D"
   ]
  },
  {
   "cell_type": "code",
   "execution_count": 230,
   "id": "f55a1f9c-ac64-430e-9d3b-5bb6040694bc",
   "metadata": {},
   "outputs": [
    {
     "data": {
      "text/plain": [
       "array([[0, 0, 0],\n",
       "       [0, 0, 0],\n",
       "       [0, 0, 0]], dtype=int8)"
      ]
     },
     "execution_count": 230,
     "metadata": {},
     "output_type": "execute_result"
    }
   ],
   "source": [
    "# 2. Create a 2D array of shape (3, 3) with all zeros.\n",
    "gpt_2D = np.zeros(shape = (3, 3), dtype = np.int8)\n",
    "gpt_2D"
   ]
  },
  {
   "cell_type": "code",
   "execution_count": 232,
   "id": "6fec2245-6242-4d5c-b5c5-851722cd28de",
   "metadata": {},
   "outputs": [
    {
     "data": {
      "text/plain": [
       "array([[1, 1, 1, 1],\n",
       "       [1, 1, 1, 1]], dtype=int8)"
      ]
     },
     "execution_count": 232,
     "metadata": {},
     "output_type": "execute_result"
    }
   ],
   "source": [
    "# 3. Create a 2D array of shape (2, 4) filled with ones.\n",
    "gpt_2D_2 = np.ones(shape = (2, 4), dtype = np.int8)\n",
    "gpt_2D_2"
   ]
  },
  {
   "cell_type": "code",
   "execution_count": 239,
   "id": "079a9cde-c276-472a-8a73-34ddaa2a800e",
   "metadata": {},
   "outputs": [
    {
     "data": {
      "text/plain": [
       "array([[1., 0., 0., 0.],\n",
       "       [0., 1., 0., 0.],\n",
       "       [0., 0., 1., 0.],\n",
       "       [0., 0., 0., 1.]])"
      ]
     },
     "execution_count": 239,
     "metadata": {},
     "output_type": "execute_result"
    }
   ],
   "source": [
    "# 4. Create an identity matrix of size 4x4.\n",
    "np.eye(4, 4)"
   ]
  },
  {
   "cell_type": "code",
   "execution_count": 241,
   "id": "92866832-f406-4ec3-82c0-b9e839622f0a",
   "metadata": {},
   "outputs": [
    {
     "data": {
      "text/plain": [
       "array([10, 11, 12, 13, 14, 15, 16, 17, 18, 19, 20], dtype=int8)"
      ]
     },
     "execution_count": 241,
     "metadata": {},
     "output_type": "execute_result"
    }
   ],
   "source": [
    "# 5. Generate an array with numbers from 10 to 20 (inclusive).\n",
    "np.arange(start = 10, stop = 21, dtype = np.int8)"
   ]
  },
  {
   "cell_type": "code",
   "execution_count": 246,
   "id": "2ec5ced5-9260-477d-87f5-d30fe0fb53f5",
   "metadata": {},
   "outputs": [
    {
     "data": {
      "text/plain": [
       "array([7, 3, 4, 4, 1])"
      ]
     },
     "execution_count": 246,
     "metadata": {},
     "output_type": "execute_result"
    }
   ],
   "source": [
    "# 6. Create an array of 5 random integers between 1 and 10.\n",
    "np.random.randint(1, 11, size = 5)"
   ]
  },
  {
   "cell_type": "code",
   "execution_count": 247,
   "id": "c16b2780-6a7a-41b8-ae3b-c9b6534f3863",
   "metadata": {},
   "outputs": [
    {
     "name": "stdout",
     "output_type": "stream",
     "text": [
      "(2, 3)\n",
      "6\n",
      "int32\n"
     ]
    }
   ],
   "source": [
    "# 7. Get the shape, size, and data type of the array.\n",
    "arr = np.array([[1, 2, 3], [4, 5, 6]])\n",
    "print(arr.shape)\n",
    "print(arr.size)\n",
    "print(arr.dtype)"
   ]
  },
  {
   "cell_type": "code",
   "execution_count": 252,
   "id": "4db85e8f-c62c-4f39-bac4-5ede8c545e98",
   "metadata": {},
   "outputs": [
    {
     "data": {
      "text/plain": [
       "array([10, 20, 30])"
      ]
     },
     "execution_count": 252,
     "metadata": {},
     "output_type": "execute_result"
    }
   ],
   "source": [
    "# 8. Convert a list to a NumPy array.\n",
    "data = [10, 20, 30]\n",
    "np.array(data)"
   ]
  },
  {
   "cell_type": "code",
   "execution_count": 259,
   "id": "c7aeeb5f-f99d-4268-a8fe-9e8354691085",
   "metadata": {},
   "outputs": [
    {
     "data": {
      "text/plain": [
       "array([[1., 2., 3.],\n",
       "       [4., 5., 6.]])"
      ]
     },
     "execution_count": 259,
     "metadata": {},
     "output_type": "execute_result"
    }
   ],
   "source": [
    "# 9. Change array data type from int to float.\n",
    "arr.astype(float)"
   ]
  },
  {
   "cell_type": "code",
   "execution_count": 261,
   "id": "4399ddc7-e923-41b6-882f-29c09ee8c263",
   "metadata": {},
   "outputs": [
    {
     "data": {
      "text/plain": [
       "array([[ 0,  1,  2,  3],\n",
       "       [ 4,  5,  6,  7],\n",
       "       [ 8,  9, 10, 11]])"
      ]
     },
     "execution_count": 261,
     "metadata": {},
     "output_type": "execute_result"
    }
   ],
   "source": [
    "# 10. Reshape a 1D array of 12 elements into 3x4.\n",
    "arr = np.arange(12).reshape(3, 4)\n",
    "arr"
   ]
  },
  {
   "cell_type": "code",
   "execution_count": 264,
   "id": "7cdfc8c1-a50a-4908-9a0c-1a6495d5de58",
   "metadata": {},
   "outputs": [
    {
     "data": {
      "text/plain": [
       "7"
      ]
     },
     "execution_count": 264,
     "metadata": {},
     "output_type": "execute_result"
    }
   ],
   "source": [
    "# 11. Find the maximum value in the array.\n",
    "arr = np.array([1, 7, 3])\n",
    "np.max(arr)"
   ]
  },
  {
   "cell_type": "code",
   "execution_count": 267,
   "id": "f50286b8-4039-43d3-b714-0835f3e27d3b",
   "metadata": {},
   "outputs": [
    {
     "name": "stdout",
     "output_type": "stream",
     "text": [
      "Min:  1\n",
      "mean:  2.5\n",
      "Size:  4\n",
      "Shape:  (2, 2)\n"
     ]
    }
   ],
   "source": [
    "#12. Find the minimum and mean.\n",
    "arr = np.array([[1, 2], [3, 4]])\n",
    "print(\"Min: \", np.min(arr))\n",
    "print(\"mean: \", np.mean(arr))\n",
    "print(\"Size: \", np.size(arr))\n",
    "print(\"Shape: \", np.shape(arr))"
   ]
  },
  {
   "cell_type": "code",
   "execution_count": 268,
   "id": "1203d541-66f1-4ea4-9818-7b16d30a8305",
   "metadata": {},
   "outputs": [
    {
     "name": "stdout",
     "output_type": "stream",
     "text": [
      "Sum:  10\n"
     ]
    }
   ],
   "source": [
    "# 13. Find the sum of all elements.\n",
    "arr = np.array([[1, 2], [3, 4]])\n",
    "print(\"Sum: \", np.sum(arr))"
   ]
  },
  {
   "cell_type": "code",
   "execution_count": 270,
   "id": "4ab0c08b-9ada-4832-8461-f58978e07686",
   "metadata": {},
   "outputs": [
    {
     "data": {
      "text/plain": [
       "array([[3],\n",
       "       [6]])"
      ]
     },
     "execution_count": 270,
     "metadata": {},
     "output_type": "execute_result"
    }
   ],
   "source": [
    "# 14. Slice to get only the last column.\n",
    "arr = np.array([[1, 2, 3], [4, 5, 6]])\n",
    "arr[:, -1:]"
   ]
  },
  {
   "cell_type": "code",
   "execution_count": 271,
   "id": "b302ccd6-4ba4-488c-898b-f540aef101db",
   "metadata": {},
   "outputs": [
    {
     "data": {
      "text/plain": [
       "array([3, 2, 1])"
      ]
     },
     "execution_count": 271,
     "metadata": {},
     "output_type": "execute_result"
    }
   ],
   "source": [
    "# 15. Reverse an array.\n",
    "arr = np.array([1, 2, 3])\n",
    "arr[::-1]"
   ]
  },
  {
   "cell_type": "code",
   "execution_count": 277,
   "id": "f0b9c122-7ef7-4e80-8d49-94089530d217",
   "metadata": {},
   "outputs": [
    {
     "data": {
      "text/plain": [
       "array([2, 2, 2, 2, 2, 2, 2, 2, 2, 2])"
      ]
     },
     "execution_count": 277,
     "metadata": {},
     "output_type": "execute_result"
    }
   ],
   "source": [
    "np.full(10, fill_value=2)"
   ]
  },
  {
   "cell_type": "code",
   "execution_count": 278,
   "id": "f54a6a30-5dae-46a6-aa87-5ff6bcca980c",
   "metadata": {},
   "outputs": [],
   "source": [
    "array_1D = np.array([10,11,12,13, 14])\n",
    "array_2D = np.array([[20,30,40,50,60], [43,54,65,76,87], [11,22,33,44,55]])\n",
    "array_3D = np.array([[[1,2,3,4,5], [11,21,31,41,51]], [[11,12,13,14,15], [51,52,53,54,5]]])"
   ]
  },
  {
   "cell_type": "code",
   "execution_count": 279,
   "id": "2e5e119f-7809-45ee-a3ec-94c0e59256bd",
   "metadata": {},
   "outputs": [
    {
     "name": "stdout",
     "output_type": "stream",
     "text": [
      "[   65537 16843009    65793 16842753 16777472]\n"
     ]
    }
   ],
   "source": [
    "print(np.empty_like(array_1D))"
   ]
  },
  {
   "cell_type": "code",
   "execution_count": 280,
   "id": "dc78f1be-0ea4-424d-8051-4fa5db6cdb9e",
   "metadata": {},
   "outputs": [
    {
     "name": "stdout",
     "output_type": "stream",
     "text": [
      "[[0 0 0 0 0]\n",
      " [0 0 0 0 0]\n",
      " [0 0 0 0 0]]\n"
     ]
    }
   ],
   "source": [
    "print(np.zeros_like(array_2D))"
   ]
  },
  {
   "cell_type": "code",
   "execution_count": 281,
   "id": "8d672cdd-6579-4f51-959f-7059c5695d60",
   "metadata": {},
   "outputs": [
    {
     "name": "stdout",
     "output_type": "stream",
     "text": [
      "[[[1 1 1 1 1]\n",
      "  [1 1 1 1 1]]\n",
      "\n",
      " [[1 1 1 1 1]\n",
      "  [1 1 1 1 1]]]\n"
     ]
    }
   ],
   "source": [
    "print(np.ones_like(array_3D))"
   ]
  },
  {
   "cell_type": "code",
   "execution_count": 282,
   "id": "c376dc37-1664-40ec-aa43-65625d9dbd1c",
   "metadata": {},
   "outputs": [
    {
     "name": "stdout",
     "output_type": "stream",
     "text": [
      "[[[2 2 2 2 2]\n",
      "  [2 2 2 2 2]]\n",
      "\n",
      " [[2 2 2 2 2]\n",
      "  [2 2 2 2 2]]]\n"
     ]
    }
   ],
   "source": [
    "print(np.full_like(array_3D, fill_value=2))"
   ]
  },
  {
   "cell_type": "code",
   "execution_count": 290,
   "id": "6c54fb03-c6ad-43fb-9f44-0d06e04e26ff",
   "metadata": {},
   "outputs": [
    {
     "data": {
      "text/plain": [
       "array([ 0,  1,  2,  3,  4,  5,  6,  7,  8,  9, 10, 11, 12, 13, 14, 15, 16,\n",
       "       17, 18, 19, 20, 21, 22, 23, 24, 25, 26, 27, 28, 29, 30, 31, 32, 33,\n",
       "       34, 35, 36, 37, 38, 39, 40, 41, 42, 43, 44, 45, 46, 47, 48, 49])"
      ]
     },
     "execution_count": 290,
     "metadata": {},
     "output_type": "execute_result"
    }
   ],
   "source": [
    "np.arange(start = 0, stop = 50)"
   ]
  },
  {
   "cell_type": "code",
   "execution_count": 285,
   "id": "f2159221-61e6-4bf6-9e54-73ce036bb69e",
   "metadata": {},
   "outputs": [
    {
     "data": {
      "text/plain": [
       "array([ 1,  2,  3,  4,  5,  6,  7,  8,  9, 10, 11, 12, 13, 14, 15, 16, 17,\n",
       "       18, 19, 20, 21, 22, 23, 24, 25, 26, 27, 28, 29, 30, 31, 32, 33, 34,\n",
       "       35, 36, 37, 38, 39, 40, 41, 42, 43, 44, 45, 46, 47, 48, 49, 50],\n",
       "      dtype=int8)"
      ]
     },
     "execution_count": 285,
     "metadata": {},
     "output_type": "execute_result"
    }
   ],
   "source": [
    "np.arange(start = 1, stop = 51, dtype = np.int8)"
   ]
  },
  {
   "cell_type": "code",
   "execution_count": 286,
   "id": "82104f39-119a-4d78-afd7-1cf7afbee90b",
   "metadata": {},
   "outputs": [
    {
     "data": {
      "text/plain": [
       "array([25, 26, 27, 28, 29, 30, 31, 32, 33, 34, 35, 36, 37, 38, 39, 40, 41,\n",
       "       42, 43, 44, 45, 46, 47, 48, 49, 50], dtype=int8)"
      ]
     },
     "execution_count": 286,
     "metadata": {},
     "output_type": "execute_result"
    }
   ],
   "source": [
    "np.arange(start = 25, stop = 51, dtype = np.int8)"
   ]
  },
  {
   "cell_type": "code",
   "execution_count": 288,
   "id": "31710eff-9c46-4508-a10b-568d995ddcbc",
   "metadata": {},
   "outputs": [
    {
     "data": {
      "text/plain": [
       "array([25, 30, 35, 40, 45, 50], dtype=int8)"
      ]
     },
     "execution_count": 288,
     "metadata": {},
     "output_type": "execute_result"
    }
   ],
   "source": [
    "np.arange(start = 25, stop = 51, step = 5, dtype = np.int8)"
   ]
  },
  {
   "cell_type": "code",
   "execution_count": 295,
   "id": "dd02d9a7-65eb-46a8-b42e-965ef1a1c268",
   "metadata": {},
   "outputs": [
    {
     "data": {
      "text/plain": [
       "array([25., 30., 35., 40., 45., 50.], dtype=float32)"
      ]
     },
     "execution_count": 295,
     "metadata": {},
     "output_type": "execute_result"
    }
   ],
   "source": [
    "np.arange(start = 25, stop = 51, step = 5, dtype = np.float32)"
   ]
  },
  {
   "cell_type": "code",
   "execution_count": 303,
   "id": "3810dba7-20d4-424e-91b7-9a77e56b58f0",
   "metadata": {},
   "outputs": [
    {
     "data": {
      "text/plain": [
       "array([25., 30., 35., 40., 45., 50.])"
      ]
     },
     "execution_count": 303,
     "metadata": {},
     "output_type": "execute_result"
    }
   ],
   "source": [
    "np.arange(25, 51, 5).astype(float)"
   ]
  },
  {
   "cell_type": "code",
   "execution_count": 296,
   "id": "1c2d50fe-22b8-41ce-bc39-3344bd6194c1",
   "metadata": {},
   "outputs": [],
   "source": [
    "from numpy.random import Generator as gen\n",
    "from numpy.random import PCG64 as pcg"
   ]
  },
  {
   "cell_type": "code",
   "execution_count": 297,
   "id": "15ef90cc-1faa-4093-b886-20d1e4d284a4",
   "metadata": {},
   "outputs": [
    {
     "data": {
      "text/plain": [
       "Generator(PCG64) at 0x1FB02859EE0"
      ]
     },
     "execution_count": 297,
     "metadata": {},
     "output_type": "execute_result"
    }
   ],
   "source": [
    "array_RG = gen(pcg())\n",
    "array_RG"
   ]
  },
  {
   "cell_type": "code",
   "execution_count": 298,
   "id": "a382b91a-7d96-4681-a991-522023916963",
   "metadata": {},
   "outputs": [
    {
     "data": {
      "text/plain": [
       "0.8313951358793731"
      ]
     },
     "execution_count": 298,
     "metadata": {},
     "output_type": "execute_result"
    }
   ],
   "source": [
    "array_RG.random()"
   ]
  },
  {
   "cell_type": "code",
   "execution_count": 299,
   "id": "0f64304b-3b3d-4e4a-acd7-09190eb6e45b",
   "metadata": {},
   "outputs": [
    {
     "data": {
      "text/plain": [
       "array([0.74240469, 0.85887953, 0.48155426, 0.97482894, 0.41281143,\n",
       "       0.34241174, 0.28470434, 0.70714873, 0.34608805, 0.63685499])"
      ]
     },
     "execution_count": 299,
     "metadata": {},
     "output_type": "execute_result"
    }
   ],
   "source": [
    "array_RG.random(10)"
   ]
  },
  {
   "cell_type": "code",
   "execution_count": 301,
   "id": "6dc0fc69-bac4-430d-97d1-928b81dddf9d",
   "metadata": {},
   "outputs": [
    {
     "data": {
      "text/plain": [
       "array([[0.32989893, 0.69246212, 0.61586078, 0.38711286, 0.93922971,\n",
       "        0.00212384, 0.37176316, 0.67119433, 0.39029284, 0.72268419],\n",
       "       [0.13842162, 0.53235759, 0.67400607, 0.38739278, 0.71153644,\n",
       "        0.15116875, 0.76184463, 0.6875829 , 0.12370635, 0.18043173],\n",
       "       [0.99258014, 0.14928981, 0.88522266, 0.52813137, 0.06928507,\n",
       "        0.51487008, 0.01868038, 0.18947367, 0.20650637, 0.93177084],\n",
       "       [0.1940774 , 0.04890169, 0.41604111, 0.12302649, 0.51830702,\n",
       "        0.05281133, 0.73626075, 0.4358819 , 0.75785232, 0.83751665],\n",
       "       [0.42103662, 0.80547951, 0.82408044, 0.36837026, 0.49525393,\n",
       "        0.03912497, 0.74160411, 0.31901723, 0.89771602, 0.11708461]])"
      ]
     },
     "execution_count": 301,
     "metadata": {},
     "output_type": "execute_result"
    }
   ],
   "source": [
    "array_RG.random((5, 10))"
   ]
  },
  {
   "cell_type": "code",
   "execution_count": 306,
   "id": "85fbe5fe-bda3-4694-9e4e-adcabe0b8d2f",
   "metadata": {},
   "outputs": [],
   "source": [
    "from numpy.random import Generator as gen\n",
    "from numpy.random import PCG64 as pcg\n",
    "\n",
    "array_RG = gen(pcg(123))"
   ]
  },
  {
   "cell_type": "code",
   "execution_count": 307,
   "id": "f5a20317-74e0-4b1e-ac47-4247e05f4bb2",
   "metadata": {},
   "outputs": [
    {
     "name": "stdout",
     "output_type": "stream",
     "text": [
      "[[0.68235186 0.05382102 0.22035987 0.18437181 0.1759059  0.81209451\n",
      "  0.923345   0.2765744  0.81975456 0.88989269]\n",
      " [0.51297046 0.2449646  0.8242416  0.21376296 0.74146705 0.6299402\n",
      "  0.92740726 0.23190819 0.79912513 0.51816504]\n",
      " [0.23155562 0.16590399 0.49778897 0.58272464 0.18433799 0.01489492\n",
      "  0.47113323 0.72824333 0.91860049 0.62553401]\n",
      " [0.91712257 0.86469025 0.21814287 0.86612743 0.73075194 0.27786529\n",
      "  0.79704355 0.86522171 0.2994379  0.52704208]\n",
      " [0.07148681 0.58323841 0.2379064  0.76496365 0.17363164 0.31274226\n",
      "  0.01447448 0.03255192 0.49670184 0.46831253]]\n"
     ]
    }
   ],
   "source": [
    "print(array_RG.random((5, 10)))"
   ]
  },
  {
   "cell_type": "code",
   "execution_count": 312,
   "id": "8f4e9d3d-3cd5-4948-bc23-c41db1bd4b69",
   "metadata": {},
   "outputs": [
    {
     "name": "stdout",
     "output_type": "stream",
     "text": [
      "[0 6 5 0 9 2 2 1 3 1]\n"
     ]
    }
   ],
   "source": [
    "array_RG = gen(pcg(123))\n",
    "print(array_RG.integers(0, 10, 10))"
   ]
  },
  {
   "cell_type": "code",
   "execution_count": 313,
   "id": "fc97ca54-b4b8-456f-a30c-a8aeb035e47f",
   "metadata": {},
   "outputs": [
    {
     "name": "stdout",
     "output_type": "stream",
     "text": [
      "[[3 8 4 9 4 2 7 8 8 8]\n",
      " [0 5 2 2 2 8 7 2 4 7]\n",
      " [1 6 4 9 7 2 8 7 2 5]\n",
      " [7 2 2 1 0 4 0 5 4 1]\n",
      " [3 0 1 4 0 7 2 9 1 6]]\n"
     ]
    }
   ],
   "source": [
    "print(array_RG.integers(0, 10, (5, 10)))"
   ]
  },
  {
   "cell_type": "code",
   "execution_count": 3,
   "id": "ac4cacd7-1943-4ac2-88c3-7e900349a75b",
   "metadata": {},
   "outputs": [
    {
     "name": "stdout",
     "output_type": "stream",
     "text": [
      "1.26.4\n"
     ]
    }
   ],
   "source": [
    "print(np.__version__)"
   ]
  },
  {
   "cell_type": "code",
   "execution_count": 4,
   "id": "e51a3af6-2837-4e7b-81f2-3ce82fe8996a",
   "metadata": {},
   "outputs": [
    {
     "name": "stdout",
     "output_type": "stream",
     "text": [
      "[0 6 5 0 9 2 2 1 3 1]\n"
     ]
    }
   ],
   "source": [
    "from numpy.random import Generator as gen\n",
    "from numpy.random import PCG64 as pcg\n",
    "\n",
    "#1.\n",
    "array_RG = gen(pcg(123))\n",
    "#2.\n",
    "print(array_RG.integers(0, 10, 10))"
   ]
  },
  {
   "cell_type": "code",
   "execution_count": 7,
   "id": "a1e19f0d-054b-4464-ba23-3042cad5f5f6",
   "metadata": {},
   "outputs": [
    {
     "name": "stdout",
     "output_type": "stream",
     "text": [
      "[[0 6 5 0 9 2 2 1 3 1]\n",
      " [3 8 4 9 4 2 7 8 8 8]\n",
      " [0 5 2 2 2 8 7 2 4 7]\n",
      " [1 6 4 9 7 2 8 7 2 5]\n",
      " [7 2 2 1 0 4 0 5 4 1]]\n"
     ]
    }
   ],
   "source": [
    "array_RG = gen(pcg(123))\n",
    "print(array_RG.integers(0, 10, (5, 10)))"
   ]
  },
  {
   "cell_type": "code",
   "execution_count": 8,
   "id": "d83812a0-e444-409a-8a77-7f1367426e91",
   "metadata": {},
   "outputs": [
    {
     "name": "stdout",
     "output_type": "stream",
     "text": [
      "[[3 0 1 4 0 7 2 9 1 6]\n",
      " [5 9 6 8 4 2 1 8 2 7]\n",
      " [5 2 4 7 4 8 9 2 5 5]\n",
      " [5 0 3 5 9 2 6 7 9 1]\n",
      " [6 3 4 0 7 0 3 4 6 4]]\n"
     ]
    }
   ],
   "source": [
    "print(array_RG.integers(10, size = (5, 10)))"
   ]
  },
  {
   "cell_type": "code",
   "execution_count": 10,
   "id": "724d5615-14de-44df-9340-925254a91cde",
   "metadata": {},
   "outputs": [
    {
     "name": "stdout",
     "output_type": "stream",
     "text": [
      "[[0.12769032 0.2575625  0.00318111 0.38106775 0.57587308 0.42729877\n",
      "  0.83510235 0.61649125 0.26608391 0.81102211]\n",
      " [0.49948675 0.75881032 0.56608909 0.43744036 0.39615444 0.02223529\n",
      "  0.46935079 0.6235584  0.94611342 0.43532608]\n",
      " [0.4856414  0.51911514 0.40859098 0.57879572 0.07035067 0.48838383\n",
      "  0.61014483 0.74387911 0.42983032 0.30280213]\n",
      " [0.00589003 0.75647897 0.07757597 0.48998804 0.3043611  0.84082216\n",
      "  0.95047586 0.31887458 0.89776829 0.33752905]\n",
      " [0.81211211 0.7988436  0.65528518 0.22870345 0.13767446 0.42437114\n",
      "  0.15153875 0.87327295 0.17912676 0.03029466]]\n"
     ]
    }
   ],
   "source": [
    "print(array_RG.random((5, 10)))"
   ]
  },
  {
   "cell_type": "code",
   "execution_count": 16,
   "id": "69e2ef7a-2488-4f27-99af-5568a7ae7b44",
   "metadata": {},
   "outputs": [],
   "source": [
    "array_RG = gen(pcg(seed = 123))"
   ]
  },
  {
   "cell_type": "code",
   "execution_count": 25,
   "id": "d23540dd-4bb4-41fa-9ec5-d706cb900b31",
   "metadata": {},
   "outputs": [
    {
     "name": "stdout",
     "output_type": "stream",
     "text": [
      "0.9913261626706856\n"
     ]
    }
   ],
   "source": [
    "print(array_RG.normal())"
   ]
  },
  {
   "cell_type": "code",
   "execution_count": 27,
   "id": "c31e181b-11ba-4e5a-8736-b0262a173b8a",
   "metadata": {},
   "outputs": [
    {
     "name": "stdout",
     "output_type": "stream",
     "text": [
      "[20 11  8 12 12 14 11 13 13 17]\n"
     ]
    }
   ],
   "source": [
    "print(array_RG.poisson(lam=15, size = 10))"
   ]
  },
  {
   "cell_type": "code",
   "execution_count": 20,
   "id": "8e1aa762-bb04-4752-918c-711e87554caf",
   "metadata": {},
   "outputs": [
    {
     "name": "stdout",
     "output_type": "stream",
     "text": [
      "[[73 70 71 64 64 73 73 65 76 69]\n",
      " [79 74 73 74 65 65 64 73 77 70]\n",
      " [69 78 67 75 73 69 70 72 66 68]\n",
      " [68 71 66 70 72 70 67 72 65 71]\n",
      " [74 69 77 73 64 68 69 61 72 59]]\n"
     ]
    }
   ],
   "source": [
    "print(array_RG.binomial(n=100, p=0.70, size=(5, 10)))"
   ]
  },
  {
   "cell_type": "code",
   "execution_count": 28,
   "id": "d5538b96-06f9-4b99-aa80-bfd83693bbaf",
   "metadata": {},
   "outputs": [],
   "source": [
    "import numpy as np\n",
    "\n",
    "np.set_printoptions(suppress = True, linewidth = 150, precision = 2)\n",
    "\n",
    "array_1D = np.array([10,11,12,13,14])\n",
    "array_2D = np.array([[20,30,40,50,60], [43,54,65,76,87], [11,22,33,44,55]])\n",
    "array_3D = np.array([[[1,2,3,4,5], [11,21,31,41,51]], [[11,12,13,14,15], [51,52,53,54,5]]])"
   ]
  },
  {
   "cell_type": "code",
   "execution_count": 29,
   "id": "50f9f196-4203-4d7b-b457-55fc9888830b",
   "metadata": {},
   "outputs": [
    {
     "data": {
      "text/plain": [
       "14"
      ]
     },
     "execution_count": 29,
     "metadata": {},
     "output_type": "execute_result"
    }
   ],
   "source": [
    "np.max(array_1D)"
   ]
  },
  {
   "cell_type": "code",
   "execution_count": 30,
   "id": "ad6def62-6eda-4722-a058-b6c573357340",
   "metadata": {},
   "outputs": [
    {
     "data": {
      "text/plain": [
       "87"
      ]
     },
     "execution_count": 30,
     "metadata": {},
     "output_type": "execute_result"
    }
   ],
   "source": [
    "np.amax(array_2D)"
   ]
  },
  {
   "cell_type": "code",
   "execution_count": 32,
   "id": "0dd9f962-f855-42b8-aa52-bef11142ac46",
   "metadata": {},
   "outputs": [
    {
     "data": {
      "text/plain": [
       "14"
      ]
     },
     "execution_count": 32,
     "metadata": {},
     "output_type": "execute_result"
    }
   ],
   "source": [
    "np.amax(array_1D, axis = 0)"
   ]
  },
  {
   "cell_type": "code",
   "execution_count": 33,
   "id": "dfd2140a-de2f-4b51-a926-1445821354c1",
   "metadata": {},
   "outputs": [
    {
     "data": {
      "text/plain": [
       "array([60, 87, 55])"
      ]
     },
     "execution_count": 33,
     "metadata": {},
     "output_type": "execute_result"
    }
   ],
   "source": [
    "np.amax(array_2D, axis = 1)"
   ]
  },
  {
   "cell_type": "code",
   "execution_count": 35,
   "id": "0a9b0a2b-9a3e-4c29-87c0-d6151df682dc",
   "metadata": {},
   "outputs": [
    {
     "data": {
      "text/plain": [
       "array([[ 5, 51],\n",
       "       [15, 54]])"
      ]
     },
     "execution_count": 35,
     "metadata": {},
     "output_type": "execute_result"
    }
   ],
   "source": [
    "np.amax(array_3D, axis = 2)"
   ]
  },
  {
   "cell_type": "code",
   "execution_count": 36,
   "id": "d8a46c8b-fc81-4864-b79d-05bb089cb849",
   "metadata": {},
   "outputs": [
    {
     "data": {
      "text/plain": [
       "14"
      ]
     },
     "execution_count": 36,
     "metadata": {},
     "output_type": "execute_result"
    }
   ],
   "source": [
    "np.maximum.reduce(array_1D)"
   ]
  },
  {
   "cell_type": "code",
   "execution_count": 37,
   "id": "46acc0df-e2ed-489c-99f6-8bfdc177778a",
   "metadata": {},
   "outputs": [
    {
     "data": {
      "text/plain": [
       "array([[11, 12, 13, 14, 15],\n",
       "       [51, 52, 53, 54, 51]])"
      ]
     },
     "execution_count": 37,
     "metadata": {},
     "output_type": "execute_result"
    }
   ],
   "source": [
    "np.maximum.reduce(array_3D)"
   ]
  },
  {
   "cell_type": "code",
   "execution_count": 38,
   "id": "473e4aa1-5c97-4e7e-811a-5626b75a4adf",
   "metadata": {},
   "outputs": [
    {
     "data": {
      "text/plain": [
       "4"
      ]
     },
     "execution_count": 38,
     "metadata": {},
     "output_type": "execute_result"
    }
   ],
   "source": [
    "np.ptp(array_1D)"
   ]
  },
  {
   "cell_type": "code",
   "execution_count": 40,
   "id": "74b23a0b-5c83-4892-b9a2-d1f1f90264e9",
   "metadata": {},
   "outputs": [
    {
     "data": {
      "text/plain": [
       "76"
      ]
     },
     "execution_count": 40,
     "metadata": {},
     "output_type": "execute_result"
    }
   ],
   "source": [
    "np.ptp(array_2D)"
   ]
  },
  {
   "cell_type": "code",
   "execution_count": 41,
   "id": "9a27bd2b-772a-423a-8146-7186c305cf6f",
   "metadata": {},
   "outputs": [
    {
     "data": {
      "text/plain": [
       "53"
      ]
     },
     "execution_count": 41,
     "metadata": {},
     "output_type": "execute_result"
    }
   ],
   "source": [
    "np.ptp(array_3D)"
   ]
  },
  {
   "cell_type": "code",
   "execution_count": 42,
   "id": "5ba56a02-c7f4-4c0a-9045-5444cc5cb153",
   "metadata": {},
   "outputs": [
    {
     "name": "stdout",
     "output_type": "stream",
     "text": [
      "4\n",
      "76\n",
      "53\n",
      "[40 44 44]\n",
      "[[ 4 40]\n",
      " [ 4 49]]\n"
     ]
    }
   ],
   "source": [
    "print(np.ptp(array_1D))\n",
    "#2.\n",
    "print(np.ptp(array_2D))\n",
    "#3.\n",
    "print(np.ptp(array_3D))\n",
    "#4.\n",
    "print(np.ptp(array_2D, axis = 1))\n",
    "#5.\n",
    "print(np.ptp(array_3D, axis = 2))"
   ]
  },
  {
   "cell_type": "code",
   "execution_count": 43,
   "id": "a12766ca-c597-4887-9a4b-f42c4464bc6f",
   "metadata": {},
   "outputs": [
    {
     "data": {
      "text/plain": [
       "array([[20, 30, 40, 50, 60],\n",
       "       [43, 54, 65, 76, 87],\n",
       "       [11, 22, 33, 44, 55]])"
      ]
     },
     "execution_count": 43,
     "metadata": {},
     "output_type": "execute_result"
    }
   ],
   "source": [
    "array_2D"
   ]
  },
  {
   "cell_type": "code",
   "execution_count": 45,
   "id": "bf55e8da-eab9-495a-bc6f-6c0822a56821",
   "metadata": {},
   "outputs": [
    {
     "data": {
      "text/plain": [
       "array([[[ 1,  2,  3,  4,  5],\n",
       "        [11, 21, 31, 41, 51]],\n",
       "\n",
       "       [[11, 12, 13, 14, 15],\n",
       "        [51, 52, 53, 54,  5]]])"
      ]
     },
     "execution_count": 45,
     "metadata": {},
     "output_type": "execute_result"
    }
   ],
   "source": [
    "array_3D"
   ]
  },
  {
   "cell_type": "code",
   "execution_count": 74,
   "id": "fe658f2c-1eb2-4a52-ab81-964d55ef79b8",
   "metadata": {},
   "outputs": [],
   "source": [
    "np.set_printoptions(suppress = True, linewidth = 150, precision = 2)\n",
    "\n",
    "array_1D = np.array([10,11,12,13,14])\n",
    "array_2D = np.array([[20,30,40,50,60], [43,54,65,76,87], [11,22,33,44,55]])\n",
    "array_3D = np.array([[[1,2,3,4,5], [11,21,31,41,51]], [[11,12,13,14,15], [51,52,53,54,5]]])"
   ]
  },
  {
   "cell_type": "code",
   "execution_count": 48,
   "id": "8ef904c8-d868-4592-8e80-1d179d070463",
   "metadata": {},
   "outputs": [],
   "source": [
    "array_1D.sort()"
   ]
  },
  {
   "cell_type": "code",
   "execution_count": 49,
   "id": "2ff76d7d-8b63-4386-b751-cbc4b31803e7",
   "metadata": {},
   "outputs": [
    {
     "data": {
      "text/plain": [
       "array([10, 11, 12, 13, 14])"
      ]
     },
     "execution_count": 49,
     "metadata": {},
     "output_type": "execute_result"
    }
   ],
   "source": [
    "array_1D"
   ]
  },
  {
   "cell_type": "code",
   "execution_count": 50,
   "id": "6f82ca2f-aed1-493e-baa1-a3258fa11073",
   "metadata": {},
   "outputs": [
    {
     "data": {
      "text/plain": [
       "array([10, 11, 12, 13, 14])"
      ]
     },
     "execution_count": 50,
     "metadata": {},
     "output_type": "execute_result"
    }
   ],
   "source": [
    "np.sort(array_1D)"
   ]
  },
  {
   "cell_type": "code",
   "execution_count": 52,
   "id": "51634832-c507-4d7e-ae39-9ec10accd580",
   "metadata": {},
   "outputs": [
    {
     "data": {
      "text/plain": [
       "11.2"
      ]
     },
     "execution_count": 52,
     "metadata": {},
     "output_type": "execute_result"
    }
   ],
   "source": [
    "np.percentile(array_1D, q = 30)"
   ]
  },
  {
   "cell_type": "code",
   "execution_count": 54,
   "id": "be395232-b425-4dbf-8b11-a80f6533606b",
   "metadata": {},
   "outputs": [
    {
     "data": {
      "text/plain": [
       "12.64"
      ]
     },
     "execution_count": 54,
     "metadata": {},
     "output_type": "execute_result"
    }
   ],
   "source": [
    "np.quantile(array_1D, q = 0.66)"
   ]
  },
  {
   "cell_type": "code",
   "execution_count": 55,
   "id": "6d657f68-96b5-4ddb-ad57-946d31474f41",
   "metadata": {},
   "outputs": [
    {
     "data": {
      "text/plain": [
       "12.0"
      ]
     },
     "execution_count": 55,
     "metadata": {},
     "output_type": "execute_result"
    }
   ],
   "source": [
    "np.quantile(array_1D, q = 0.5)"
   ]
  },
  {
   "cell_type": "code",
   "execution_count": 56,
   "id": "f65f3b17-3c01-4d93-93c1-6b3bd1620c00",
   "metadata": {},
   "outputs": [
    {
     "name": "stdout",
     "output_type": "stream",
     "text": [
      "34.4\n",
      "54.24\n",
      "44.0\n"
     ]
    }
   ],
   "source": [
    "array_2D = np.sort(array_2D)\n",
    "print(np.percentile(array_2D, q = 30))\n",
    "print(np.quantile(array_2D, q = 0.66))\n",
    "print(np.quantile(array_2D, q = 0.5))"
   ]
  },
  {
   "cell_type": "code",
   "execution_count": 58,
   "id": "66538f44-2152-4759-9d01-05f8e62a4e93",
   "metadata": {},
   "outputs": [
    {
     "name": "stdout",
     "output_type": "stream",
     "text": [
      "9.200000000000001\n",
      "26.40000000000001\n",
      "13.5\n"
     ]
    }
   ],
   "source": [
    "array_3D = np.sort(array_3D)\n",
    "print(np.percentile(array_3D, q = 30))\n",
    "print(np.quantile(array_3D, q = 0.66))\n",
    "print(np.quantile(array_3D, q = 0.5))"
   ]
  },
  {
   "cell_type": "code",
   "execution_count": 59,
   "id": "e2f286cf-64cb-445f-b8d3-673bdd3715fe",
   "metadata": {},
   "outputs": [
    {
     "data": {
      "text/plain": [
       "array([[[ 1,  2,  3,  4,  5],\n",
       "        [11, 21, 31, 41, 51]],\n",
       "\n",
       "       [[11, 12, 13, 14, 15],\n",
       "        [ 5, 51, 52, 53, 54]]])"
      ]
     },
     "execution_count": 59,
     "metadata": {},
     "output_type": "execute_result"
    }
   ],
   "source": [
    "array_3D"
   ]
  },
  {
   "cell_type": "code",
   "execution_count": 71,
   "id": "d5ba186c-0698-4170-8b3f-2ba33ebd0b34",
   "metadata": {},
   "outputs": [
    {
     "data": {
      "text/plain": [
       "array([[20, 30, 40, 50, 60],\n",
       "       [43, 54, 65, 76, 87],\n",
       "       [11, 22, 33, 44, 55]])"
      ]
     },
     "execution_count": 71,
     "metadata": {},
     "output_type": "execute_result"
    }
   ],
   "source": [
    "array_2D"
   ]
  },
  {
   "cell_type": "code",
   "execution_count": 72,
   "id": "f6f87dc8-65c7-4150-a2b4-6aeb8d7876a2",
   "metadata": {},
   "outputs": [],
   "source": [
    "array_2D.sort()"
   ]
  },
  {
   "cell_type": "code",
   "execution_count": 73,
   "id": "66734d27-f665-44f1-b9d3-ebf35fd899ee",
   "metadata": {},
   "outputs": [
    {
     "data": {
      "text/plain": [
       "array([[20, 30, 40, 50, 60],\n",
       "       [43, 54, 65, 76, 87],\n",
       "       [11, 22, 33, 44, 55]])"
      ]
     },
     "execution_count": 73,
     "metadata": {},
     "output_type": "execute_result"
    }
   ],
   "source": [
    "array_2D"
   ]
  },
  {
   "cell_type": "code",
   "execution_count": 75,
   "id": "d48b7b0e-34a3-4c32-9e2a-c552ba0eb2bc",
   "metadata": {},
   "outputs": [
    {
     "data": {
      "text/plain": [
       "array([[20, 30, 40, 50, 60],\n",
       "       [43, 54, 65, 76, 87],\n",
       "       [11, 22, 33, 44, 55]])"
      ]
     },
     "execution_count": 75,
     "metadata": {},
     "output_type": "execute_result"
    }
   ],
   "source": [
    "array_2D"
   ]
  },
  {
   "cell_type": "code",
   "execution_count": 76,
   "id": "9ae0a800-474d-4283-8a25-e0e6c67c373e",
   "metadata": {},
   "outputs": [
    {
     "data": {
      "text/plain": [
       "array([[20, 30, 40, 50, 60],\n",
       "       [43, 54, 65, 76, 87],\n",
       "       [11, 22, 33, 44, 55]])"
      ]
     },
     "execution_count": 76,
     "metadata": {},
     "output_type": "execute_result"
    }
   ],
   "source": [
    "np.sort(array_2D)"
   ]
  },
  {
   "cell_type": "code",
   "execution_count": 77,
   "id": "44381d11-4750-4bf9-8840-d8289a9e5de9",
   "metadata": {},
   "outputs": [
    {
     "data": {
      "text/plain": [
       "array([[20, 30, 40, 50, 60],\n",
       "       [43, 54, 65, 76, 87],\n",
       "       [11, 22, 33, 44, 55]])"
      ]
     },
     "execution_count": 77,
     "metadata": {},
     "output_type": "execute_result"
    }
   ],
   "source": [
    "array_2D"
   ]
  },
  {
   "cell_type": "code",
   "execution_count": 78,
   "id": "ff4a1cd5-e444-4b6e-bda5-a31e67d3ef12",
   "metadata": {},
   "outputs": [],
   "source": [
    "array_2D = np.array([\n",
    "    [20,30,40,50,60], \n",
    "    [43,54,65,76,87], \n",
    "    [11,22,33,44,55]\n",
    "])"
   ]
  },
  {
   "cell_type": "code",
   "execution_count": 80,
   "id": "9e794b50-f231-4be7-8cb8-fb5b502d3a63",
   "metadata": {},
   "outputs": [
    {
     "name": "stdout",
     "output_type": "stream",
     "text": [
      "46.0\n",
      "44.0\n",
      "[24.67 35.33 46.   56.67 67.33]\n",
      "416.6666666666667\n",
      "20.412414523193153\n",
      "[[250.  275.  275. ]\n",
      " [275.  302.5 302.5]\n",
      " [275.  302.5 302.5]]\n",
      "[[1. 1. 1.]\n",
      " [1. 1. 1.]\n",
      " [1. 1. 1.]]\n"
     ]
    }
   ],
   "source": [
    "# 1. Mean.\n",
    "print(np.mean(array_2D))\n",
    "# 2. Median.\n",
    "print(np.median(array_2D))\n",
    "# 3. Column-wise mean.\n",
    "print(np.mean(array_2D, 0))\n",
    "# 4. Variance.\n",
    "print(np.var(array_2D))\n",
    "# 5. Standard deviation.\n",
    "print(np.std(array_2D))\n",
    "# 6. Covariance (treating each row as a variable and each column as an observation).\n",
    "print(np.cov(array_2D))\n",
    "# 7. Correlation (treating each row as a variable and each column as an observation).\n",
    "print(np.corrcoef(array_2D))"
   ]
  },
  {
   "cell_type": "code",
   "execution_count": 81,
   "id": "f12586ae-6811-4ac6-9db4-4dc7041d5be8",
   "metadata": {},
   "outputs": [
    {
     "name": "stdout",
     "output_type": "stream",
     "text": [
      "46.0\n",
      "44.0\n",
      "[20. 30. 40. 50. 60.]\n",
      "416.6666666666667\n",
      "20.412414523193153\n",
      "[[250.  275.  275. ]\n",
      " [275.  302.5 302.5]\n",
      " [275.  302.5 302.5]]\n",
      "[[1. 1. 1.]\n",
      " [1. 1. 1.]\n",
      " [1. 1. 1.]]\n"
     ]
    }
   ],
   "source": [
    "#1.\n",
    "print(np.mean(array_2D))\n",
    "#2.\n",
    "print(np.median(array_2D))\n",
    "#3.\n",
    "print(np.median(array_2D, axis = 0))\n",
    "#4.\n",
    "print(np.var(array_2D))\n",
    "#5.\n",
    "print(np.std(array_2D))\n",
    "#6.\n",
    "print(np.cov(array_2D))\n",
    "#7.\n",
    "print(np.corrcoef(array_2D))"
   ]
  },
  {
   "cell_type": "code",
   "execution_count": 83,
   "id": "b1589349-9736-4b33-a8a6-e7ffde1230db",
   "metadata": {},
   "outputs": [],
   "source": [
    "import numpy as np\n",
    "\n",
    "array_2D = np.array([[20,30,40,50,60], [43,54,65,76,87], [11,22,33,44,55]])\n",
    "\n",
    "#1.\n",
    "x_vals = array_2D[0]\n",
    "y_vals = array_2D[1]\n",
    "result_2d = np.histogram2d(x_vals, y_vals, bins=4)[0]\n",
    "#2.\n",
    "points_3D = array_2D.T\n",
    "result_dd = np.histogramdd(points_3D, bins=4)[0]"
   ]
  },
  {
   "cell_type": "code",
   "execution_count": 84,
   "id": "0e6e4bfb-6675-42aa-be7d-76b63d831033",
   "metadata": {},
   "outputs": [
    {
     "data": {
      "text/plain": [
       "array([[1., 0., 0., 0.],\n",
       "       [0., 1., 0., 0.],\n",
       "       [0., 0., 1., 0.],\n",
       "       [0., 0., 0., 2.]])"
      ]
     },
     "execution_count": 84,
     "metadata": {},
     "output_type": "execute_result"
    }
   ],
   "source": [
    "result_2d"
   ]
  },
  {
   "cell_type": "code",
   "execution_count": 85,
   "id": "fe497db0-7244-4179-9e9c-7e6893af5c7b",
   "metadata": {},
   "outputs": [
    {
     "data": {
      "text/plain": [
       "array([[[1., 0., 0., 0.],\n",
       "        [0., 0., 0., 0.],\n",
       "        [0., 0., 0., 0.],\n",
       "        [0., 0., 0., 0.]],\n",
       "\n",
       "       [[0., 0., 0., 0.],\n",
       "        [0., 1., 0., 0.],\n",
       "        [0., 0., 0., 0.],\n",
       "        [0., 0., 0., 0.]],\n",
       "\n",
       "       [[0., 0., 0., 0.],\n",
       "        [0., 0., 0., 0.],\n",
       "        [0., 0., 1., 0.],\n",
       "        [0., 0., 0., 0.]],\n",
       "\n",
       "       [[0., 0., 0., 0.],\n",
       "        [0., 0., 0., 0.],\n",
       "        [0., 0., 0., 0.],\n",
       "        [0., 0., 0., 2.]]])"
      ]
     },
     "execution_count": 85,
     "metadata": {},
     "output_type": "execute_result"
    }
   ],
   "source": [
    "result_dd"
   ]
  },
  {
   "cell_type": "code",
   "execution_count": 86,
   "id": "e3142563-9324-4e5e-9c83-7c35d2acb7c9",
   "metadata": {},
   "outputs": [],
   "source": [
    "array_2D = np.array([[20,30,40,50,60], [43,54,65,76,87], [11,22,33,44,55]])\n",
    "\n",
    "#1.\n",
    "result_2d = np.histogram2d(array_2D[0], array_2D[1], bins=4)\n",
    "\n",
    "#2.\n",
    "result_dd = np.histogramdd(array_2D.T, bins=4)"
   ]
  },
  {
   "cell_type": "code",
   "execution_count": 87,
   "id": "2b2388e1-3973-4439-9dc9-7449be90ac6d",
   "metadata": {},
   "outputs": [
    {
     "data": {
      "text/plain": [
       "(array([[1., 0., 0., 0.],\n",
       "        [0., 1., 0., 0.],\n",
       "        [0., 0., 1., 0.],\n",
       "        [0., 0., 0., 2.]]),\n",
       " array([20., 30., 40., 50., 60.]),\n",
       " array([43., 54., 65., 76., 87.]))"
      ]
     },
     "execution_count": 87,
     "metadata": {},
     "output_type": "execute_result"
    }
   ],
   "source": [
    "result_2d"
   ]
  },
  {
   "cell_type": "code",
   "execution_count": 88,
   "id": "54a3c6eb-4bb8-4ec6-b255-5eb8b8d2b2e0",
   "metadata": {},
   "outputs": [
    {
     "data": {
      "text/plain": [
       "(array([[[1., 0., 0., 0.],\n",
       "         [0., 0., 0., 0.],\n",
       "         [0., 0., 0., 0.],\n",
       "         [0., 0., 0., 0.]],\n",
       " \n",
       "        [[0., 0., 0., 0.],\n",
       "         [0., 1., 0., 0.],\n",
       "         [0., 0., 0., 0.],\n",
       "         [0., 0., 0., 0.]],\n",
       " \n",
       "        [[0., 0., 0., 0.],\n",
       "         [0., 0., 0., 0.],\n",
       "         [0., 0., 1., 0.],\n",
       "         [0., 0., 0., 0.]],\n",
       " \n",
       "        [[0., 0., 0., 0.],\n",
       "         [0., 0., 0., 0.],\n",
       "         [0., 0., 0., 0.],\n",
       "         [0., 0., 0., 2.]]]),\n",
       " [array([20., 30., 40., 50., 60.]),\n",
       "  array([43., 54., 65., 76., 87.]),\n",
       "  array([11., 22., 33., 44., 55.])])"
      ]
     },
     "execution_count": 88,
     "metadata": {},
     "output_type": "execute_result"
    }
   ],
   "source": [
    "result_dd"
   ]
  },
  {
   "cell_type": "code",
   "execution_count": 89,
   "id": "16e34298-8ab6-435c-8cd2-3708d996fe15",
   "metadata": {},
   "outputs": [],
   "source": [
    "array_nan = np.array([\n",
    "    [20,    np.nan, 40, 50,     60], \n",
    "    [np.nan,54,     65, np.nan, 87], \n",
    "    [11,    22,     33, 44,     np.nan]\n",
    "])"
   ]
  },
  {
   "cell_type": "code",
   "execution_count": 92,
   "id": "a28172ce-2062-4e1f-b1b1-9e040f0cc865",
   "metadata": {},
   "outputs": [
    {
     "data": {
      "text/plain": [
       "nan"
      ]
     },
     "execution_count": 92,
     "metadata": {},
     "output_type": "execute_result"
    }
   ],
   "source": [
    "np.mean(array_nan)"
   ]
  },
  {
   "cell_type": "code",
   "execution_count": 93,
   "id": "cbcb54c6-8b42-4b5c-a6e7-f98f7ced44d7",
   "metadata": {},
   "outputs": [
    {
     "data": {
      "text/plain": [
       "44.18181818181818"
      ]
     },
     "execution_count": 93,
     "metadata": {},
     "output_type": "execute_result"
    }
   ],
   "source": [
    "np.nanmean(array_nan)"
   ]
  },
  {
   "cell_type": "code",
   "execution_count": 94,
   "id": "9dc821b3-eb7e-48f1-a50b-13dca07f97a6",
   "metadata": {},
   "outputs": [
    {
     "data": {
      "text/plain": [
       "nan"
      ]
     },
     "execution_count": 94,
     "metadata": {},
     "output_type": "execute_result"
    }
   ],
   "source": [
    "np.var(array_nan)"
   ]
  },
  {
   "cell_type": "code",
   "execution_count": 95,
   "id": "1ec38271-775d-49da-97fd-32ac9161f8a1",
   "metadata": {},
   "outputs": [
    {
     "data": {
      "text/plain": [
       "451.6033057851239"
      ]
     },
     "execution_count": 95,
     "metadata": {},
     "output_type": "execute_result"
    }
   ],
   "source": [
    "np.nanvar(array_nan)"
   ]
  },
  {
   "cell_type": "code",
   "execution_count": 96,
   "id": "795c6b6d-9bee-4fcf-a3f3-a582d9687649",
   "metadata": {},
   "outputs": [
    {
     "data": {
      "text/plain": [
       "array([[0., 0., 0., 0.],\n",
       "       [0., 0., 0., 0.],\n",
       "       [0., 0., 0., 0.]])"
      ]
     },
     "execution_count": 96,
     "metadata": {},
     "output_type": "execute_result"
    }
   ],
   "source": [
    "# How do you create a NumPy array of shape (3, 4) filled with zeros?\n",
    "np.zeros((3, 4))"
   ]
  },
  {
   "cell_type": "code",
   "execution_count": 99,
   "id": "9006de4f-ef61-4bbe-b028-7df25af05873",
   "metadata": {},
   "outputs": [
    {
     "data": {
      "text/plain": [
       "array([10, 11, 12, 13, 14, 15, 16, 17, 18, 19, 20])"
      ]
     },
     "execution_count": 99,
     "metadata": {},
     "output_type": "execute_result"
    }
   ],
   "source": [
    "np.arange(10, 21)"
   ]
  },
  {
   "cell_type": "code",
   "execution_count": 101,
   "id": "1dd02ec1-9359-43b0-afc7-a2eb0d0477a7",
   "metadata": {},
   "outputs": [
    {
     "data": {
      "text/plain": [
       "array([ 1,  2,  3,  4,  5,  6,  7,  8,  9, 10, 11, 12])"
      ]
     },
     "execution_count": 101,
     "metadata": {},
     "output_type": "execute_result"
    }
   ],
   "source": [
    "arr = np.arange(1, 13)\n",
    "arr"
   ]
  },
  {
   "cell_type": "code",
   "execution_count": 102,
   "id": "fd66f500-4f3b-4fa0-a8f3-d5ed03db8eb6",
   "metadata": {},
   "outputs": [
    {
     "data": {
      "text/plain": [
       "array([[ 1,  2,  3,  4],\n",
       "       [ 5,  6,  7,  8],\n",
       "       [ 9, 10, 11, 12]])"
      ]
     },
     "execution_count": 102,
     "metadata": {},
     "output_type": "execute_result"
    }
   ],
   "source": [
    "arr.reshape((3, 4))"
   ]
  },
  {
   "cell_type": "code",
   "execution_count": 104,
   "id": "f9cc6c9b-47c3-4d4c-8fe7-01e1e8f8718f",
   "metadata": {},
   "outputs": [
    {
     "data": {
      "text/plain": [
       "array([False, False, False, False, False, False, False, False, False, False,  True,  True])"
      ]
     },
     "execution_count": 104,
     "metadata": {},
     "output_type": "execute_result"
    }
   ],
   "source": [
    "arr > 10"
   ]
  },
  {
   "cell_type": "code",
   "execution_count": 105,
   "id": "7cd5e0d9-63f3-4c8c-8c55-5435fca24686",
   "metadata": {},
   "outputs": [
    {
     "data": {
      "text/plain": [
       "(array([10, 11], dtype=int64),)"
      ]
     },
     "execution_count": 105,
     "metadata": {},
     "output_type": "execute_result"
    }
   ],
   "source": [
    "np.where(arr > 10)"
   ]
  },
  {
   "cell_type": "code",
   "execution_count": 106,
   "id": "5f386c37-5ef7-4964-b8d4-f61d1820b13e",
   "metadata": {},
   "outputs": [
    {
     "data": {
      "text/plain": [
       "array([[20, 30, 40, 50, 60],\n",
       "       [43, 54, 65, 76, 87],\n",
       "       [11, 22, 33, 44, 55]])"
      ]
     },
     "execution_count": 106,
     "metadata": {},
     "output_type": "execute_result"
    }
   ],
   "source": [
    "array_2D"
   ]
  },
  {
   "cell_type": "code",
   "execution_count": 109,
   "id": "2afdfd6e-6601-45d6-ac79-e7af6d617daf",
   "metadata": {},
   "outputs": [
    {
     "data": {
      "text/plain": [
       "array([40., 65., 33.])"
      ]
     },
     "execution_count": 109,
     "metadata": {},
     "output_type": "execute_result"
    }
   ],
   "source": [
    "array_2D.mean(axis = 1)"
   ]
  },
  {
   "cell_type": "code",
   "execution_count": 125,
   "id": "bc8d0c9c-0dd9-46d3-ad58-837a570e3adc",
   "metadata": {},
   "outputs": [
    {
     "data": {
      "text/plain": [
       "array([[20, 30, 40, 50, 60],\n",
       "       [43, 54, 65, 76, 87],\n",
       "       [11, 22, 33, 44, 55]])"
      ]
     },
     "execution_count": 125,
     "metadata": {},
     "output_type": "execute_result"
    }
   ],
   "source": [
    "array_2D"
   ]
  },
  {
   "cell_type": "code",
   "execution_count": 126,
   "id": "b53b254e-0c39-46ce-b95f-895e958a5d74",
   "metadata": {},
   "outputs": [
    {
     "data": {
      "text/plain": [
       "array([[-30, -20, -10,   0,  10],\n",
       "       [ -7,   4,  15,  26,  37],\n",
       "       [-39, -28, -17,  -6,   5]])"
      ]
     },
     "execution_count": 126,
     "metadata": {},
     "output_type": "execute_result"
    }
   ],
   "source": [
    "arr2d = array_2D - 50\n",
    "arr2d"
   ]
  },
  {
   "cell_type": "code",
   "execution_count": 123,
   "id": "39983878-87b6-4a65-b483-857888f84cc6",
   "metadata": {},
   "outputs": [
    {
     "data": {
      "text/plain": [
       "array([[ 0,  0,  0,  0, 10],\n",
       "       [ 0,  4, 15, 26, 37],\n",
       "       [ 0,  0,  0,  0,  5]])"
      ]
     },
     "execution_count": 123,
     "metadata": {},
     "output_type": "execute_result"
    }
   ],
   "source": [
    "arr2d = np.where(arr2d<0, 0, arr2d)\n",
    "arr2d"
   ]
  },
  {
   "cell_type": "code",
   "execution_count": 127,
   "id": "55233dfe-842d-4204-b306-83471fd0fc47",
   "metadata": {},
   "outputs": [
    {
     "data": {
      "text/plain": [
       "array([[-30, -20, -10,   0,  10],\n",
       "       [ -7,   4,  15,  26,  37],\n",
       "       [-39, -28, -17,  -6,   5]])"
      ]
     },
     "execution_count": 127,
     "metadata": {},
     "output_type": "execute_result"
    }
   ],
   "source": [
    "arr2d"
   ]
  },
  {
   "cell_type": "code",
   "execution_count": 129,
   "id": "dbe66636-6870-4a4b-83ea-62d2b2eff37f",
   "metadata": {},
   "outputs": [],
   "source": [
    "arr2d[arr2d < 0] = 0"
   ]
  },
  {
   "cell_type": "code",
   "execution_count": 130,
   "id": "e05c3891-6ec3-4fcf-9b96-06b0924fc4fe",
   "metadata": {},
   "outputs": [
    {
     "data": {
      "text/plain": [
       "array([[ 0,  0,  0,  0, 10],\n",
       "       [ 0,  4, 15, 26, 37],\n",
       "       [ 0,  0,  0,  0,  5]])"
      ]
     },
     "execution_count": 130,
     "metadata": {},
     "output_type": "execute_result"
    }
   ],
   "source": [
    "arr2d"
   ]
  },
  {
   "cell_type": "code",
   "execution_count": 131,
   "id": "02788dff-8c1e-4614-b284-c66a042849f4",
   "metadata": {},
   "outputs": [
    {
     "data": {
      "text/plain": [
       "array([10, 11, 12, 13, 14])"
      ]
     },
     "execution_count": 131,
     "metadata": {},
     "output_type": "execute_result"
    }
   ],
   "source": [
    "array_1D"
   ]
  },
  {
   "cell_type": "code",
   "execution_count": 133,
   "id": "bce80c06-b29c-4abd-8d4c-46d19fd2d915",
   "metadata": {},
   "outputs": [
    {
     "data": {
      "text/plain": [
       "<module 'numpy.random' from 'C:\\\\Users\\\\Karthik\\\\anaconda3\\\\Lib\\\\site-packages\\\\numpy\\\\random\\\\__init__.py'>"
      ]
     },
     "execution_count": 133,
     "metadata": {},
     "output_type": "execute_result"
    }
   ],
   "source": [
    "np.random"
   ]
  },
  {
   "cell_type": "code",
   "execution_count": 134,
   "id": "07232e79-982b-4352-ab75-32c7b58fb47f",
   "metadata": {},
   "outputs": [],
   "source": [
    "arr = np.random.randint(1, 101, 10)"
   ]
  },
  {
   "cell_type": "code",
   "execution_count": 135,
   "id": "e21ee542-4f86-45da-83dc-3280fff87f97",
   "metadata": {},
   "outputs": [
    {
     "data": {
      "text/plain": [
       "array([70, 64, 58, 16, 76, 25, 41, 63, 49,  7])"
      ]
     },
     "execution_count": 135,
     "metadata": {},
     "output_type": "execute_result"
    }
   ],
   "source": [
    "arr"
   ]
  },
  {
   "cell_type": "code",
   "execution_count": 136,
   "id": "e92aef26-82ee-4f8c-889c-ba804716d4a4",
   "metadata": {},
   "outputs": [
    {
     "data": {
      "text/plain": [
       "array([64, 70, 76])"
      ]
     },
     "execution_count": 136,
     "metadata": {},
     "output_type": "execute_result"
    }
   ],
   "source": [
    "top3 = np.partition(arr, -3)[-3:]\n",
    "top3"
   ]
  },
  {
   "cell_type": "code",
   "execution_count": 137,
   "id": "f148cb24-0e1b-4eff-9a8c-edefb28e75fe",
   "metadata": {},
   "outputs": [
    {
     "ename": "TypeError",
     "evalue": "remainder() takes from 2 to 3 positional arguments but 1 were given",
     "output_type": "error",
     "traceback": [
      "\u001b[1;31m---------------------------------------------------------------------------\u001b[0m",
      "\u001b[1;31mTypeError\u001b[0m                                 Traceback (most recent call last)",
      "Cell \u001b[1;32mIn[137], line 1\u001b[0m\n\u001b[1;32m----> 1\u001b[0m np\u001b[38;5;241m.\u001b[39mmod(array_1D)\n",
      "\u001b[1;31mTypeError\u001b[0m: remainder() takes from 2 to 3 positional arguments but 1 were given"
     ]
    }
   ],
   "source": [
    "np.mod(array_1D)"
   ]
  },
  {
   "cell_type": "code",
   "execution_count": 138,
   "id": "61de77ee-0190-4694-90bc-7e3f82afe762",
   "metadata": {},
   "outputs": [],
   "source": [
    "vals, counts = np.unique(arr, return_counts=True)\n",
    "mode = vals[np.argmax(counts)]"
   ]
  },
  {
   "cell_type": "code",
   "execution_count": 139,
   "id": "a7dd258d-615a-417b-8e78-85f4d4430530",
   "metadata": {},
   "outputs": [
    {
     "data": {
      "text/plain": [
       "7"
      ]
     },
     "execution_count": 139,
     "metadata": {},
     "output_type": "execute_result"
    }
   ],
   "source": [
    "mode"
   ]
  },
  {
   "cell_type": "code",
   "execution_count": 140,
   "id": "6388a0f3-b333-4a1c-b2a3-c7852e97d22b",
   "metadata": {},
   "outputs": [
    {
     "data": {
      "text/plain": [
       "array([ 7, 16, 25, 41, 49, 58, 63, 64, 70, 76])"
      ]
     },
     "execution_count": 140,
     "metadata": {},
     "output_type": "execute_result"
    }
   ],
   "source": [
    "vals"
   ]
  },
  {
   "cell_type": "code",
   "execution_count": 141,
   "id": "e2159cfe-b7c6-490f-8987-2524f43b431a",
   "metadata": {},
   "outputs": [
    {
     "data": {
      "text/plain": [
       "array([1, 1, 1, 1, 1, 1, 1, 1, 1, 1], dtype=int64)"
      ]
     },
     "execution_count": 141,
     "metadata": {},
     "output_type": "execute_result"
    }
   ],
   "source": [
    "counts"
   ]
  },
  {
   "cell_type": "code",
   "execution_count": 146,
   "id": "90090a9a-8477-4199-af30-f1cd55b3ba86",
   "metadata": {},
   "outputs": [
    {
     "data": {
      "text/plain": [
       "array([10, 20, 30, 40, 50])"
      ]
     },
     "execution_count": 146,
     "metadata": {},
     "output_type": "execute_result"
    }
   ],
   "source": [
    "data = [10, 20, 30, 40, 50]\n",
    "np.array(data)"
   ]
  },
  {
   "cell_type": "code",
   "execution_count": 147,
   "id": "744ab8b7-e385-448c-bf6d-9562aabe0568",
   "metadata": {},
   "outputs": [
    {
     "data": {
      "text/plain": [
       "array([[20, 30, 40, 50, 60],\n",
       "       [43, 54, 65, 76, 87],\n",
       "       [11, 22, 33, 44, 55]])"
      ]
     },
     "execution_count": 147,
     "metadata": {},
     "output_type": "execute_result"
    }
   ],
   "source": [
    "array_2D"
   ]
  },
  {
   "cell_type": "code",
   "execution_count": 149,
   "id": "1379c481-0193-44f5-91cf-b53d4333c1dc",
   "metadata": {},
   "outputs": [
    {
     "data": {
      "text/plain": [
       "array([ 74, 106, 138, 170, 202])"
      ]
     },
     "execution_count": 149,
     "metadata": {},
     "output_type": "execute_result"
    }
   ],
   "source": [
    "np.sum(array_2D, axis = 0)"
   ]
  },
  {
   "cell_type": "code",
   "execution_count": 152,
   "id": "0b8a887a-0d29-46f1-bab9-77302343c563",
   "metadata": {},
   "outputs": [
    {
     "data": {
      "text/plain": [
       "False"
      ]
     },
     "execution_count": 152,
     "metadata": {},
     "output_type": "execute_result"
    }
   ],
   "source": [
    "np.isnan(arr).any()"
   ]
  },
  {
   "cell_type": "code",
   "execution_count": 153,
   "id": "3d88b023-ea2f-4b0c-9368-1d7c8bc7ec9d",
   "metadata": {},
   "outputs": [
    {
     "data": {
      "text/plain": [
       "array([70, 64, 58, 16, 76, 25, 41, 63, 49,  7])"
      ]
     },
     "execution_count": 153,
     "metadata": {},
     "output_type": "execute_result"
    }
   ],
   "source": [
    "arr"
   ]
  },
  {
   "cell_type": "code",
   "execution_count": 154,
   "id": "8ad704bd-afbc-4d82-98ea-e6136ecd1cc6",
   "metadata": {},
   "outputs": [
    {
     "data": {
      "text/plain": [
       "array([[ 0,  0,  0,  0, 10],\n",
       "       [ 0,  4, 15, 26, 37],\n",
       "       [ 0,  0,  0,  0,  5]])"
      ]
     },
     "execution_count": 154,
     "metadata": {},
     "output_type": "execute_result"
    }
   ],
   "source": [
    "arr2d"
   ]
  },
  {
   "cell_type": "code",
   "execution_count": 159,
   "id": "ddd80b8d-2238-4da4-88ff-df19c4a99351",
   "metadata": {},
   "outputs": [
    {
     "name": "stdout",
     "output_type": "stream",
     "text": [
      "[[17. 73. 82. nan 21.]\n",
      " [nan 26. 96. 73. nan]\n",
      " [72. 54. 76. 39. 25.]\n",
      " [nan nan 98. 19.  4.]]\n"
     ]
    }
   ],
   "source": [
    "import numpy as np\n",
    "\n",
    "# Create a random array of shape (4, 5)\n",
    "arr = np.random.randint(1, 100, size=(4, 5)).astype(float)\n",
    "\n",
    "# Set 5 random positions to NaN\n",
    "num_nan = 5\n",
    "rows, cols = arr.shape\n",
    "nan_indices = np.random.choice(rows * cols, size=num_nan, replace=False)\n",
    "\n",
    "# Convert 1D indices to 2D indices\n",
    "row_indices, col_indices = np.unravel_index(nan_indices, (rows, cols))\n",
    "arr[row_indices, col_indices] = np.nan\n",
    "\n",
    "print(arr)\n"
   ]
  },
  {
   "cell_type": "code",
   "execution_count": 162,
   "id": "97da20cd-1ea3-47e4-a2b3-58bb02c42fc7",
   "metadata": {},
   "outputs": [
    {
     "data": {
      "text/plain": [
       "array([17., 73., 82., 21., 26., 96., 73., 72., 54., 76., 39., 25., 98., 19.,  4.])"
      ]
     },
     "execution_count": 162,
     "metadata": {},
     "output_type": "execute_result"
    }
   ],
   "source": [
    "arr[~np.isnan(arr)]"
   ]
  },
  {
   "cell_type": "code",
   "execution_count": 158,
   "id": "4f80466f-3f6a-4976-9cce-fa21b17b8f4c",
   "metadata": {},
   "outputs": [
    {
     "data": {
      "text/plain": [
       "array([[False, False,  True, False, False],\n",
       "       [ True, False, False, False,  True],\n",
       "       [False,  True, False, False, False],\n",
       "       [False, False, False, False,  True]])"
      ]
     },
     "execution_count": 158,
     "metadata": {},
     "output_type": "execute_result"
    }
   ],
   "source": [
    "arr1"
   ]
  },
  {
   "cell_type": "code",
   "execution_count": 163,
   "id": "b42bb085-2686-4b88-8d28-bd35c33e5436",
   "metadata": {},
   "outputs": [
    {
     "data": {
      "text/plain": [
       "array([[20, 30, 40, 50, 60],\n",
       "       [43, 54, 65, 76, 87],\n",
       "       [11, 22, 33, 44, 55]])"
      ]
     },
     "execution_count": 163,
     "metadata": {},
     "output_type": "execute_result"
    }
   ],
   "source": [
    "array_2D"
   ]
  },
  {
   "cell_type": "code",
   "execution_count": 167,
   "id": "09568935-6203-4e92-ab08-6ed289f1f643",
   "metadata": {},
   "outputs": [
    {
     "data": {
      "text/plain": [
       "array([43, 54, 65, 76, 87])"
      ]
     },
     "execution_count": 167,
     "metadata": {},
     "output_type": "execute_result"
    }
   ],
   "source": [
    "array_2D[np.argmax(np.sum(array_2D, axis = 1))]"
   ]
  },
  {
   "cell_type": "code",
   "execution_count": 168,
   "id": "ba00e663-5c0a-4ae8-bc76-3dda92593791",
   "metadata": {},
   "outputs": [
    {
     "data": {
      "text/plain": [
       "array([[17., 73., 82., nan, 21.],\n",
       "       [nan, 26., 96., 73., nan],\n",
       "       [72., 54., 76., 39., 25.],\n",
       "       [nan, nan, 98., 19.,  4.]])"
      ]
     },
     "execution_count": 168,
     "metadata": {},
     "output_type": "execute_result"
    }
   ],
   "source": [
    "arr"
   ]
  },
  {
   "cell_type": "code",
   "execution_count": 170,
   "id": "7c94ea8c-8e17-4298-b6d2-fb32d261cc42",
   "metadata": {},
   "outputs": [
    {
     "data": {
      "text/plain": [
       "array([0, 2, 4, 6, 8])"
      ]
     },
     "execution_count": 170,
     "metadata": {},
     "output_type": "execute_result"
    }
   ],
   "source": [
    "np.arange(0, 10, 2)"
   ]
  },
  {
   "cell_type": "code",
   "execution_count": 172,
   "id": "2aa0a762-e517-466a-84ba-37c08533cf62",
   "metadata": {},
   "outputs": [
    {
     "data": {
      "text/plain": [
       "array([0.  , 0.25, 0.5 , 0.75, 1.  ])"
      ]
     },
     "execution_count": 172,
     "metadata": {},
     "output_type": "execute_result"
    }
   ],
   "source": [
    "np.linspace(0, 1, 5)"
   ]
  },
  {
   "cell_type": "code",
   "execution_count": 173,
   "id": "832e8255-98e9-492f-b617-51246a922569",
   "metadata": {},
   "outputs": [
    {
     "data": {
      "text/plain": [
       "array([[20, 30, 40, 50, 60],\n",
       "       [43, 54, 65, 76, 87],\n",
       "       [11, 22, 33, 44, 55]])"
      ]
     },
     "execution_count": 173,
     "metadata": {},
     "output_type": "execute_result"
    }
   ],
   "source": [
    "array_2D"
   ]
  },
  {
   "cell_type": "code",
   "execution_count": 174,
   "id": "8fce80d6-b89c-471e-a7b4-36d7ffbea06d",
   "metadata": {},
   "outputs": [
    {
     "data": {
      "text/plain": [
       "array([20, 30, 40, 50, 60, 43, 54, 65, 76, 87, 11, 22, 33, 44, 55])"
      ]
     },
     "execution_count": 174,
     "metadata": {},
     "output_type": "execute_result"
    }
   ],
   "source": [
    "array_2D.flatten()"
   ]
  },
  {
   "cell_type": "code",
   "execution_count": 176,
   "id": "2f9362bf-378c-4c41-ad09-5c172991fa2c",
   "metadata": {},
   "outputs": [
    {
     "data": {
      "text/plain": [
       "array([[20, 43, 11],\n",
       "       [30, 54, 22],\n",
       "       [40, 65, 33],\n",
       "       [50, 76, 44],\n",
       "       [60, 87, 55]])"
      ]
     },
     "execution_count": 176,
     "metadata": {},
     "output_type": "execute_result"
    }
   ],
   "source": [
    "array_2D.T"
   ]
  },
  {
   "cell_type": "code",
   "execution_count": 177,
   "id": "d5946646-b6f6-47ec-a154-0298d34addbe",
   "metadata": {},
   "outputs": [
    {
     "data": {
      "text/plain": [
       "array([[1, 2, 3],\n",
       "       [4, 5, 6]])"
      ]
     },
     "execution_count": 177,
     "metadata": {},
     "output_type": "execute_result"
    }
   ],
   "source": [
    "matrix = np.array([[1, 2, 3],\n",
    "                   [4, 5, 6]])\n",
    "matrix"
   ]
  },
  {
   "cell_type": "code",
   "execution_count": 178,
   "id": "a3f38ceb-cb8a-4874-b7b8-927cdd9ec054",
   "metadata": {},
   "outputs": [
    {
     "data": {
      "text/plain": [
       "array([4, 5, 6])"
      ]
     },
     "execution_count": 178,
     "metadata": {},
     "output_type": "execute_result"
    }
   ],
   "source": [
    "matrix[1]"
   ]
  },
  {
   "cell_type": "code",
   "execution_count": 180,
   "id": "84f380d8-e526-4598-b9ba-44e04e3f55d1",
   "metadata": {},
   "outputs": [
    {
     "data": {
      "text/plain": [
       "array([2, 5])"
      ]
     },
     "execution_count": 180,
     "metadata": {},
     "output_type": "execute_result"
    }
   ],
   "source": [
    "matrix[:, 1]"
   ]
  },
  {
   "cell_type": "code",
   "execution_count": 181,
   "id": "88fcb4d2-b7f8-4cd2-9540-c063fae0e27f",
   "metadata": {},
   "outputs": [
    {
     "data": {
      "text/plain": [
       "array([[1, 2, 3],\n",
       "       [4, 5, 6]])"
      ]
     },
     "execution_count": 181,
     "metadata": {},
     "output_type": "execute_result"
    }
   ],
   "source": [
    "matrix"
   ]
  },
  {
   "cell_type": "code",
   "execution_count": 182,
   "id": "9e284262-bff3-4d13-a344-c702b85b0d63",
   "metadata": {},
   "outputs": [
    {
     "data": {
      "text/plain": [
       "array([[False, False, False],\n",
       "       [ True,  True,  True]])"
      ]
     },
     "execution_count": 182,
     "metadata": {},
     "output_type": "execute_result"
    }
   ],
   "source": [
    "matrix > 3"
   ]
  },
  {
   "cell_type": "code",
   "execution_count": 183,
   "id": "56b912a6-9447-4e7b-96ea-50fc62993ce2",
   "metadata": {},
   "outputs": [
    {
     "data": {
      "text/plain": [
       "array([4, 5, 6])"
      ]
     },
     "execution_count": 183,
     "metadata": {},
     "output_type": "execute_result"
    }
   ],
   "source": [
    "matrix[matrix > 3]"
   ]
  },
  {
   "cell_type": "code",
   "execution_count": 184,
   "id": "99783d26-e68f-4820-a538-1d761c173b89",
   "metadata": {},
   "outputs": [
    {
     "data": {
      "text/plain": [
       "array([2, 4, 6])"
      ]
     },
     "execution_count": 184,
     "metadata": {},
     "output_type": "execute_result"
    }
   ],
   "source": [
    "matrix[matrix % 2 == 0]"
   ]
  },
  {
   "cell_type": "code",
   "execution_count": 185,
   "id": "6b47165e-a814-4a6e-a2c3-9e882bdd7204",
   "metadata": {},
   "outputs": [
    {
     "data": {
      "text/plain": [
       "array([['Low', 'Low', 'Low'],\n",
       "       ['High', 'High', 'High']], dtype='<U4')"
      ]
     },
     "execution_count": 185,
     "metadata": {},
     "output_type": "execute_result"
    }
   ],
   "source": [
    "np.where(matrix > 3, \"High\", \"Low\")"
   ]
  },
  {
   "cell_type": "code",
   "execution_count": 186,
   "id": "54b69d32-1896-4bf2-b849-d83f80f9f753",
   "metadata": {},
   "outputs": [
    {
     "data": {
      "text/plain": [
       "array([['Odd', 'Even', 'Odd'],\n",
       "       ['Even', 'Odd', 'Even']], dtype='<U4')"
      ]
     },
     "execution_count": 186,
     "metadata": {},
     "output_type": "execute_result"
    }
   ],
   "source": [
    "np.where(matrix % 2 == 0, \"Even\", \"Odd\")"
   ]
  },
  {
   "cell_type": "code",
   "execution_count": 187,
   "id": "dfa9b45c-8987-465f-ba9c-754c794e44a8",
   "metadata": {},
   "outputs": [],
   "source": [
    "arr = np.array([10, 20, 30, 40, 50, 60])"
   ]
  },
  {
   "cell_type": "code",
   "execution_count": 189,
   "id": "fd181c3f-152d-4db5-be54-b1b2df8f5a7c",
   "metadata": {},
   "outputs": [
    {
     "data": {
      "text/plain": [
       "array([[10, 20],\n",
       "       [30, 40],\n",
       "       [50, 60]])"
      ]
     },
     "execution_count": 189,
     "metadata": {},
     "output_type": "execute_result"
    }
   ],
   "source": [
    "arr.reshape(3, 2)"
   ]
  },
  {
   "cell_type": "code",
   "execution_count": 190,
   "id": "e9a1445e-155b-40d0-be61-bf85f1478da5",
   "metadata": {},
   "outputs": [
    {
     "data": {
      "text/plain": [
       "array([10, 20, 30, 40, 50, 60])"
      ]
     },
     "execution_count": 190,
     "metadata": {},
     "output_type": "execute_result"
    }
   ],
   "source": [
    "arr.flatten()"
   ]
  },
  {
   "cell_type": "code",
   "execution_count": 191,
   "id": "5e0a1272-4474-4cd0-a2ba-12d7428355ac",
   "metadata": {},
   "outputs": [
    {
     "data": {
      "text/plain": [
       "array([10, 20, 30, 40, 50, 60])"
      ]
     },
     "execution_count": 191,
     "metadata": {},
     "output_type": "execute_result"
    }
   ],
   "source": [
    "arr.ravel()"
   ]
  },
  {
   "cell_type": "code",
   "execution_count": 192,
   "id": "73a71e28-75ae-48c5-b538-c5f4e8f8def9",
   "metadata": {},
   "outputs": [],
   "source": [
    "a = np.array([1, 2, 3])\n",
    "b = np.array([4, 5, 6])"
   ]
  },
  {
   "cell_type": "code",
   "execution_count": 193,
   "id": "b7575bf8-29d2-4b75-8a36-cda456f3fc7e",
   "metadata": {},
   "outputs": [
    {
     "data": {
      "text/plain": [
       "array([1, 2, 3])"
      ]
     },
     "execution_count": 193,
     "metadata": {},
     "output_type": "execute_result"
    }
   ],
   "source": [
    "a"
   ]
  },
  {
   "cell_type": "code",
   "execution_count": 194,
   "id": "e6d12a8f-d6b6-4db2-8a48-8f6c1ccceaca",
   "metadata": {},
   "outputs": [
    {
     "data": {
      "text/plain": [
       "array([4, 5, 6])"
      ]
     },
     "execution_count": 194,
     "metadata": {},
     "output_type": "execute_result"
    }
   ],
   "source": [
    "b"
   ]
  },
  {
   "cell_type": "code",
   "execution_count": 195,
   "id": "0df54f50-90f9-4ff7-9ced-4b9810973cfa",
   "metadata": {},
   "outputs": [
    {
     "data": {
      "text/plain": [
       "array([1, 2, 3, 4, 5, 6])"
      ]
     },
     "execution_count": 195,
     "metadata": {},
     "output_type": "execute_result"
    }
   ],
   "source": [
    "np.hstack([a, b])"
   ]
  },
  {
   "cell_type": "code",
   "execution_count": 196,
   "id": "0031f344-2728-4ceb-bc84-06d1f00a741f",
   "metadata": {},
   "outputs": [
    {
     "data": {
      "text/plain": [
       "array([[1, 2, 3],\n",
       "       [4, 5, 6]])"
      ]
     },
     "execution_count": 196,
     "metadata": {},
     "output_type": "execute_result"
    }
   ],
   "source": [
    "np.vstack([a, b])"
   ]
  },
  {
   "cell_type": "code",
   "execution_count": 197,
   "id": "db528a38-2391-4f5b-b62c-eab34590c11f",
   "metadata": {},
   "outputs": [],
   "source": [
    "arr = np.array([[1, 2, 3, 4],\n",
    "                [5, 6, 7, 8]])"
   ]
  },
  {
   "cell_type": "code",
   "execution_count": 198,
   "id": "76d113ab-e296-4d74-96e8-23113e9ade92",
   "metadata": {},
   "outputs": [
    {
     "data": {
      "text/plain": [
       "array([[1, 2, 3, 4],\n",
       "       [5, 6, 7, 8]])"
      ]
     },
     "execution_count": 198,
     "metadata": {},
     "output_type": "execute_result"
    }
   ],
   "source": [
    "arr"
   ]
  },
  {
   "cell_type": "code",
   "execution_count": 199,
   "id": "276af07a-3f77-4df6-b398-fb7855d05b7b",
   "metadata": {},
   "outputs": [
    {
     "data": {
      "text/plain": [
       "[array([[1, 2],\n",
       "        [5, 6]]),\n",
       " array([[3, 4],\n",
       "        [7, 8]])]"
      ]
     },
     "execution_count": 199,
     "metadata": {},
     "output_type": "execute_result"
    }
   ],
   "source": [
    "np.hsplit(arr, 2)"
   ]
  },
  {
   "cell_type": "code",
   "execution_count": 200,
   "id": "85d4b7a3-8be5-4cac-9bd4-8041338a01a4",
   "metadata": {},
   "outputs": [
    {
     "data": {
      "text/plain": [
       "[array([[1, 2, 3, 4]]), array([[5, 6, 7, 8]])]"
      ]
     },
     "execution_count": 200,
     "metadata": {},
     "output_type": "execute_result"
    }
   ],
   "source": [
    "np.vsplit(arr, 2)"
   ]
  },
  {
   "cell_type": "code",
   "execution_count": 203,
   "id": "73f31815-b8e2-45fb-a90d-a78615c8da99",
   "metadata": {},
   "outputs": [
    {
     "data": {
      "text/plain": [
       "[array([[1],\n",
       "        [5]]),\n",
       " array([[2],\n",
       "        [6]]),\n",
       " array([[3],\n",
       "        [7]]),\n",
       " array([[4],\n",
       "        [8]])]"
      ]
     },
     "execution_count": 203,
     "metadata": {},
     "output_type": "execute_result"
    }
   ],
   "source": [
    "np.hsplit(arr, 4)"
   ]
  },
  {
   "cell_type": "code",
   "execution_count": 204,
   "id": "4226a8d2-3f40-4b9e-bf3b-95c24937880f",
   "metadata": {},
   "outputs": [],
   "source": [
    "x = np.array([[10, 20, 30],\n",
    "              [40, 50, 60]])\n",
    "y = np.array([[70, 80, 90],\n",
    "              [100, 110, 120]])"
   ]
  },
  {
   "cell_type": "code",
   "execution_count": 205,
   "id": "338c068e-10df-4bd8-ac71-3b0e53c8c961",
   "metadata": {},
   "outputs": [
    {
     "data": {
      "text/plain": [
       "array([[10, 20, 30],\n",
       "       [40, 50, 60]])"
      ]
     },
     "execution_count": 205,
     "metadata": {},
     "output_type": "execute_result"
    }
   ],
   "source": [
    "x"
   ]
  },
  {
   "cell_type": "code",
   "execution_count": 206,
   "id": "a254ab86-74c3-4424-8db0-3c99dd4c086e",
   "metadata": {},
   "outputs": [
    {
     "data": {
      "text/plain": [
       "array([[ 70,  80,  90],\n",
       "       [100, 110, 120]])"
      ]
     },
     "execution_count": 206,
     "metadata": {},
     "output_type": "execute_result"
    }
   ],
   "source": [
    "y"
   ]
  },
  {
   "cell_type": "code",
   "execution_count": 207,
   "id": "25ba9fcd-1b67-4b1d-b53d-60a4487009cb",
   "metadata": {},
   "outputs": [
    {
     "data": {
      "text/plain": [
       "array([[ 10,  20,  30,  70,  80,  90],\n",
       "       [ 40,  50,  60, 100, 110, 120]])"
      ]
     },
     "execution_count": 207,
     "metadata": {},
     "output_type": "execute_result"
    }
   ],
   "source": [
    "np.hstack([x, y])"
   ]
  },
  {
   "cell_type": "code",
   "execution_count": 208,
   "id": "c8a5c616-8b46-426c-b627-903226f4c0b7",
   "metadata": {},
   "outputs": [
    {
     "data": {
      "text/plain": [
       "array([[ 10,  20,  30],\n",
       "       [ 40,  50,  60],\n",
       "       [ 70,  80,  90],\n",
       "       [100, 110, 120]])"
      ]
     },
     "execution_count": 208,
     "metadata": {},
     "output_type": "execute_result"
    }
   ],
   "source": [
    "np.vstack([x, y])"
   ]
  },
  {
   "cell_type": "code",
   "execution_count": 211,
   "id": "306c1004-29fb-4d83-8dea-0f7fbc6ba63d",
   "metadata": {},
   "outputs": [
    {
     "data": {
      "text/plain": [
       "[array([[10, 20],\n",
       "        [40, 50]]),\n",
       " array([[ 30,  70],\n",
       "        [ 60, 100]]),\n",
       " array([[ 80,  90],\n",
       "        [110, 120]])]"
      ]
     },
     "execution_count": 211,
     "metadata": {},
     "output_type": "execute_result"
    }
   ],
   "source": [
    "np.hsplit(np.hstack([x, y]), 3)"
   ]
  },
  {
   "cell_type": "code",
   "execution_count": 212,
   "id": "0d1c8be6-a09b-49e9-a4fe-9f647c93e0c8",
   "metadata": {},
   "outputs": [],
   "source": [
    "a = np.array([[1], [2], [3]])\n",
    "b = np.array([10, 20, 30])"
   ]
  },
  {
   "cell_type": "code",
   "execution_count": 213,
   "id": "34f8548d-b607-4644-a5cc-f650004c112c",
   "metadata": {},
   "outputs": [
    {
     "data": {
      "text/plain": [
       "array([[11, 21, 31],\n",
       "       [12, 22, 32],\n",
       "       [13, 23, 33]])"
      ]
     },
     "execution_count": 213,
     "metadata": {},
     "output_type": "execute_result"
    }
   ],
   "source": [
    "a + b"
   ]
  },
  {
   "cell_type": "code",
   "execution_count": 217,
   "id": "9704a774-bed5-456e-901b-71a3e1ec7803",
   "metadata": {},
   "outputs": [
    {
     "data": {
      "text/plain": [
       "(3, 1)"
      ]
     },
     "execution_count": 217,
     "metadata": {},
     "output_type": "execute_result"
    }
   ],
   "source": [
    "np.shape(a)"
   ]
  },
  {
   "cell_type": "code",
   "execution_count": 218,
   "id": "a6e68ad7-8a99-4df1-8e0e-b8f9d1a6f409",
   "metadata": {},
   "outputs": [
    {
     "data": {
      "text/plain": [
       "array([[1],\n",
       "       [2],\n",
       "       [3]])"
      ]
     },
     "execution_count": 218,
     "metadata": {},
     "output_type": "execute_result"
    }
   ],
   "source": [
    "a"
   ]
  },
  {
   "cell_type": "code",
   "execution_count": 219,
   "id": "3c3be4c5-3d02-4219-b5c1-ec8ff1c2f8d3",
   "metadata": {},
   "outputs": [
    {
     "data": {
      "text/plain": [
       "array([10, 20, 30])"
      ]
     },
     "execution_count": 219,
     "metadata": {},
     "output_type": "execute_result"
    }
   ],
   "source": [
    "b"
   ]
  },
  {
   "cell_type": "code",
   "execution_count": 224,
   "id": "31af07da-8e0d-4cf8-b8f0-d0674addebdb",
   "metadata": {},
   "outputs": [
    {
     "data": {
      "text/plain": [
       "array([[ 0, 25,  0],\n",
       "       [30,  0,  0],\n",
       "       [22,  0, 40]])"
      ]
     },
     "execution_count": 224,
     "metadata": {},
     "output_type": "execute_result"
    }
   ],
   "source": [
    "arr2d = np.array([[12, 25, 7],\n",
    "                  [30, 18, 5],\n",
    "                  [22, 9, 40]])\n",
    "\n",
    "# Q3: Replace all values < 20 with 0 (in-place)\n",
    "arr2d[arr2d < 20] = 0\n",
    "arr2d"
   ]
  },
  {
   "cell_type": "code",
   "execution_count": 222,
   "id": "466e5fda-d349-4374-ae1a-1110bc29f7a4",
   "metadata": {},
   "outputs": [
    {
     "data": {
      "text/plain": [
       "array([[ 0, 25,  0],\n",
       "       [30,  0,  0],\n",
       "       [22,  0, 40]])"
      ]
     },
     "execution_count": 222,
     "metadata": {},
     "output_type": "execute_result"
    }
   ],
   "source": [
    "np.where(arr2d < 20 , 0, arr2d)"
   ]
  },
  {
   "cell_type": "code",
   "execution_count": 227,
   "id": "c5c5f143-8a1b-4b00-a741-b892a0c309ed",
   "metadata": {},
   "outputs": [
    {
     "data": {
      "text/plain": [
       "array([12, 25, 30, 18, 22])"
      ]
     },
     "execution_count": 227,
     "metadata": {},
     "output_type": "execute_result"
    }
   ],
   "source": [
    "arr2d = np.array([[12, 25, 7],\n",
    "                  [30, 18, 5],\n",
    "                  [22, 9, 40]])\n",
    "\n",
    "# Q4: Extract values where 10 ≤ x ≤ 30\n",
    "arr2d[(arr2d >= 10) & (arr2d <= 30)]"
   ]
  },
  {
   "cell_type": "code",
   "execution_count": 234,
   "id": "af788cb4-5095-417e-b757-7c6ad66a3d97",
   "metadata": {},
   "outputs": [
    {
     "name": "stdout",
     "output_type": "stream",
     "text": [
      "[21.  13.5 23.5]\n",
      "3\n"
     ]
    }
   ],
   "source": [
    "arr_nan = np.array([[12, np.nan, 7],\n",
    "                    [30, 18, np.nan],\n",
    "                    [np.nan, 9, 40]])\n",
    "\n",
    "# Q7a: Column-wise mean, ignoring NaNs\n",
    "print(np.nanmean(arr_nan, axis = 0))\n",
    "# Q7b: Count of NaNs in entire array\n",
    "print(np.sum(np.isnan(arr_nan)))"
   ]
  },
  {
   "cell_type": "code",
   "execution_count": 235,
   "id": "f9fd4f11-4a39-4a0c-9560-9d710a61a88f",
   "metadata": {},
   "outputs": [
    {
     "data": {
      "text/plain": [
       "array([[12., nan,  7.],\n",
       "       [30., 18., nan],\n",
       "       [nan,  9., 40.]])"
      ]
     },
     "execution_count": 235,
     "metadata": {},
     "output_type": "execute_result"
    }
   ],
   "source": [
    "arr_nan"
   ]
  },
  {
   "cell_type": "code",
   "execution_count": 236,
   "id": "6e036b05-4c25-44c1-9457-d66f18a359db",
   "metadata": {},
   "outputs": [
    {
     "name": "stdout",
     "output_type": "stream",
     "text": [
      "[21.  13.5 23.5]\n"
     ]
    }
   ],
   "source": [
    "col_means = np.nanmean(arr_nan, axis = 0)\n",
    "print(col_means)"
   ]
  },
  {
   "cell_type": "code",
   "execution_count": 239,
   "id": "a8b00541-74be-4506-bf6b-7c63289c296e",
   "metadata": {},
   "outputs": [
    {
     "data": {
      "text/plain": [
       "array([[12. , 13.5,  7. ],\n",
       "       [30. , 18. , 23.5],\n",
       "       [21. ,  9. , 40. ]])"
      ]
     },
     "execution_count": 239,
     "metadata": {},
     "output_type": "execute_result"
    }
   ],
   "source": [
    "filled_array = np.where(np.isnan(arr_nan), col_means, arr_nan)\n",
    "filled_array"
   ]
  },
  {
   "cell_type": "code",
   "execution_count": 240,
   "id": "01455830-4083-4466-a9d8-7902fc78c68a",
   "metadata": {},
   "outputs": [
    {
     "data": {
      "text/plain": [
       "array([[12., nan,  7.],\n",
       "       [30., 18., nan],\n",
       "       [nan,  9., 40.]])"
      ]
     },
     "execution_count": 240,
     "metadata": {},
     "output_type": "execute_result"
    }
   ],
   "source": [
    "arr_nan = np.array([[12, np.nan, 7],\n",
    "                    [30, 18, np.nan],\n",
    "                    [np.nan, 9, 40]])\n",
    "arr_nan"
   ]
  },
  {
   "cell_type": "code",
   "execution_count": 259,
   "id": "76925f6a-4239-4e22-aa1b-abb6705117c4",
   "metadata": {},
   "outputs": [
    {
     "name": "stdout",
     "output_type": "stream",
     "text": [
      "[ 9.5 24.  24.5]\n",
      "(3,)\n",
      "[[ 9.5]\n",
      " [24. ]\n",
      " [24.5]]\n"
     ]
    }
   ],
   "source": [
    "row_mean = np.nanmean(arr_nan, axis = 1)\n",
    "print(row_mean)\n",
    "print(np.shape(row_mean))\n",
    "print(np.reshape(row_mean, (1, 3)).T)"
   ]
  },
  {
   "cell_type": "code",
   "execution_count": 252,
   "id": "8cbf1e6d-b456-474c-9645-248b0048eb81",
   "metadata": {},
   "outputs": [
    {
     "data": {
      "text/plain": [
       "array([[ 9.5, 24. , 24.5]])"
      ]
     },
     "execution_count": 252,
     "metadata": {},
     "output_type": "execute_result"
    }
   ],
   "source": [
    "np.reshape(row_mean, (1, 3))"
   ]
  },
  {
   "cell_type": "code",
   "execution_count": 260,
   "id": "0dbab407-99fd-4d6b-9dee-399ce71fddc1",
   "metadata": {},
   "outputs": [
    {
     "data": {
      "text/plain": [
       "array([[12. ,  9.5,  7. ],\n",
       "       [30. , 18. , 24. ],\n",
       "       [24.5,  9. , 40. ]])"
      ]
     },
     "execution_count": 260,
     "metadata": {},
     "output_type": "execute_result"
    }
   ],
   "source": [
    "np.where(np.isnan(arr_nan), np.reshape(row_mean, (1, 3)).T, arr_nan)"
   ]
  },
  {
   "cell_type": "code",
   "execution_count": 261,
   "id": "04e3ddf2-4fdd-48bb-ad93-94577b60207f",
   "metadata": {},
   "outputs": [
    {
     "data": {
      "text/plain": [
       "array([[12., nan,  7.],\n",
       "       [30., 18., nan],\n",
       "       [nan,  9., 40.]])"
      ]
     },
     "execution_count": 261,
     "metadata": {},
     "output_type": "execute_result"
    }
   ],
   "source": [
    "arr_nan"
   ]
  },
  {
   "cell_type": "code",
   "execution_count": 262,
   "id": "2b63dd83-997f-4878-8f8c-80a57795482c",
   "metadata": {},
   "outputs": [
    {
     "data": {
      "text/plain": [
       "array([ 9.5, 24. , 24.5])"
      ]
     },
     "execution_count": 262,
     "metadata": {},
     "output_type": "execute_result"
    }
   ],
   "source": [
    "row_mean"
   ]
  },
  {
   "cell_type": "code",
   "execution_count": 263,
   "id": "eff40e1d-5326-43f0-9f5a-dfc1192c701f",
   "metadata": {},
   "outputs": [
    {
     "data": {
      "text/plain": [
       "array([[ 9.5],\n",
       "       [24. ],\n",
       "       [24.5]])"
      ]
     },
     "execution_count": 263,
     "metadata": {},
     "output_type": "execute_result"
    }
   ],
   "source": [
    "row_mean[:, np.newaxis]"
   ]
  },
  {
   "cell_type": "code",
   "execution_count": 264,
   "id": "c4df922e-af5a-4952-bfde-bed5191fe0e5",
   "metadata": {},
   "outputs": [],
   "source": [
    "a = np.array([10, 20, 30])         # shape: (3,)\n",
    "b = np.array([[1], [2], [3]])      # shape: (3, 1)\n",
    "\n",
    "# Broadcasting works because:\n",
    "a_col = a[:, np.newaxis]           # shape: (3, 1)\n",
    "\n",
    "result = a_col * b                 # shape: (3, 1) * (3, 1) = (3, 1)"
   ]
  },
  {
   "cell_type": "code",
   "execution_count": 265,
   "id": "3894c668-b4b1-4f78-a789-b631e3bbe618",
   "metadata": {},
   "outputs": [
    {
     "data": {
      "text/plain": [
       "array([[10],\n",
       "       [20],\n",
       "       [30]])"
      ]
     },
     "execution_count": 265,
     "metadata": {},
     "output_type": "execute_result"
    }
   ],
   "source": [
    "a_col"
   ]
  },
  {
   "cell_type": "code",
   "execution_count": 266,
   "id": "9ef359e5-d71c-48f9-a4fe-36f327d8e7d6",
   "metadata": {},
   "outputs": [
    {
     "data": {
      "text/plain": [
       "array([10, 20, 30])"
      ]
     },
     "execution_count": 266,
     "metadata": {},
     "output_type": "execute_result"
    }
   ],
   "source": [
    "a"
   ]
  },
  {
   "cell_type": "code",
   "execution_count": 267,
   "id": "98a69a0c-98f3-4bdc-8290-7b0dba85517f",
   "metadata": {},
   "outputs": [
    {
     "data": {
      "text/plain": [
       "array([[10],\n",
       "       [40],\n",
       "       [90]])"
      ]
     },
     "execution_count": 267,
     "metadata": {},
     "output_type": "execute_result"
    }
   ],
   "source": [
    "result"
   ]
  },
  {
   "cell_type": "code",
   "execution_count": 268,
   "id": "6e911ed1-bc25-4705-acaf-6ce51cbb178f",
   "metadata": {},
   "outputs": [
    {
     "data": {
      "text/plain": [
       "array([[1],\n",
       "       [2],\n",
       "       [3]])"
      ]
     },
     "execution_count": 268,
     "metadata": {},
     "output_type": "execute_result"
    }
   ],
   "source": [
    "b"
   ]
  },
  {
   "cell_type": "code",
   "execution_count": 270,
   "id": "ab4b21ce-1e18-458b-9c30-f0256160b60e",
   "metadata": {},
   "outputs": [
    {
     "data": {
      "text/plain": [
       "array([30, 50, 70])"
      ]
     },
     "execution_count": 270,
     "metadata": {},
     "output_type": "execute_result"
    }
   ],
   "source": [
    "arr = np.array([[10, 20, 30],\n",
    "                [40, 50, 60],\n",
    "                [70, 80, 90]])\n",
    "\n",
    "# Q: Select elements at positions (0,2), (1,1), and (2,0)\n",
    "rows = [0, 1, 2]\n",
    "cols = [2, 1, 0]\n",
    "arr[rows, cols]"
   ]
  },
  {
   "cell_type": "code",
   "execution_count": 271,
   "id": "5339af37-04bd-4418-a79e-c0af8f9840b0",
   "metadata": {},
   "outputs": [
    {
     "data": {
      "text/plain": [
       "(array([1, 1], dtype=int64), array([0, 1], dtype=int64))"
      ]
     },
     "execution_count": 271,
     "metadata": {},
     "output_type": "execute_result"
    }
   ],
   "source": [
    "arr2d = np.array([[5, 10], [15, 20]])\n",
    "np.where(arr2d > 10)"
   ]
  },
  {
   "cell_type": "code",
   "execution_count": 272,
   "id": "cae78277-f41b-448a-9add-068bb11a200b",
   "metadata": {},
   "outputs": [
    {
     "data": {
      "text/plain": [
       "array([[ 10,  25,  30],\n",
       "       [ 45,  50, 999],\n",
       "       [999, 999, 999]])"
      ]
     },
     "execution_count": 272,
     "metadata": {},
     "output_type": "execute_result"
    }
   ],
   "source": [
    "arr = np.array([[10, 25, 30],\n",
    "                [45, 50, 60],\n",
    "                [70, 80, 90]])\n",
    "\n",
    "# Replace all values > 50 with 999\n",
    "np.where(arr > 50, 999, arr)"
   ]
  },
  {
   "cell_type": "code",
   "execution_count": 274,
   "id": "5c1177a4-860e-41f6-85b6-6e538217f05e",
   "metadata": {},
   "outputs": [
    {
     "data": {
      "text/plain": [
       "array([[10, 25, 30],\n",
       "       [45, 50, 60],\n",
       "       [70, 80, 90]])"
      ]
     },
     "execution_count": 274,
     "metadata": {},
     "output_type": "execute_result"
    }
   ],
   "source": [
    "arr"
   ]
  },
  {
   "cell_type": "code",
   "execution_count": 273,
   "id": "5efc5d81-0d66-452e-a35f-6b1ed79c3f7f",
   "metadata": {},
   "outputs": [
    {
     "data": {
      "text/plain": [
       "array([[0, 0, 0],\n",
       "       [1, 1, 1],\n",
       "       [1, 0, 0]])"
      ]
     },
     "execution_count": 273,
     "metadata": {},
     "output_type": "execute_result"
    }
   ],
   "source": [
    "np.where((arr > 30) & (arr < 80), 1, 0)"
   ]
  },
  {
   "cell_type": "code",
   "execution_count": 275,
   "id": "d847b3d5-9f0b-4d31-b51a-23a370898fa3",
   "metadata": {},
   "outputs": [
    {
     "data": {
      "text/plain": [
       "array([[-1, 25, 30],\n",
       "       [45, 50, 60],\n",
       "       [70, 80, -1]])"
      ]
     },
     "execution_count": 275,
     "metadata": {},
     "output_type": "execute_result"
    }
   ],
   "source": [
    "np.where((arr < 20) | (arr > 80), -1, arr)\n"
   ]
  },
  {
   "cell_type": "code",
   "execution_count": 276,
   "id": "e4bd7b0a-8ff7-4281-be44-cdeca078c1ee",
   "metadata": {},
   "outputs": [
    {
     "data": {
      "text/plain": [
       "array([[10, 25, 30],\n",
       "       [45, 50, 60],\n",
       "       [70, 80, 90]])"
      ]
     },
     "execution_count": 276,
     "metadata": {},
     "output_type": "execute_result"
    }
   ],
   "source": [
    "arr"
   ]
  },
  {
   "cell_type": "code",
   "execution_count": 277,
   "id": "3e1e365d-834b-4947-88ca-11791c139349",
   "metadata": {},
   "outputs": [
    {
     "data": {
      "text/plain": [
       "array([[51.43, 25.  , 30.  ],\n",
       "       [45.  , 50.  , 60.  ],\n",
       "       [70.  , 80.  , 51.43]])"
      ]
     },
     "execution_count": 277,
     "metadata": {},
     "output_type": "execute_result"
    }
   ],
   "source": [
    "mean_val = arr[(arr >= 20) & (arr <= 80)].mean()\n",
    "np.where((arr < 20) | (arr > 80), mean_val, arr)"
   ]
  },
  {
   "cell_type": "code",
   "execution_count": 278,
   "id": "8ba29447-c7ec-498f-8758-3407820baaa3",
   "metadata": {},
   "outputs": [
    {
     "data": {
      "text/plain": [
       "array([25, 30, 45, 50, 60, 70, 80])"
      ]
     },
     "execution_count": 278,
     "metadata": {},
     "output_type": "execute_result"
    }
   ],
   "source": [
    "arr[(arr >= 20) & (arr <= 80)]"
   ]
  },
  {
   "cell_type": "code",
   "execution_count": 279,
   "id": "33887f1a-50bb-4d61-a028-a2e1e5076fa2",
   "metadata": {},
   "outputs": [
    {
     "data": {
      "text/plain": [
       "array([[10, 25, 30],\n",
       "       [45, 50, 60],\n",
       "       [70, 80, 90]])"
      ]
     },
     "execution_count": 279,
     "metadata": {},
     "output_type": "execute_result"
    }
   ],
   "source": [
    "arr"
   ]
  },
  {
   "cell_type": "code",
   "execution_count": 280,
   "id": "fa39d748-be51-4cde-8379-bb461840da31",
   "metadata": {},
   "outputs": [
    {
     "data": {
      "text/plain": [
       "array([[0, 0, 1],\n",
       "       [1, 1, 1],\n",
       "       [1, 2, 2]])"
      ]
     },
     "execution_count": 280,
     "metadata": {},
     "output_type": "execute_result"
    }
   ],
   "source": [
    "np.where(arr < 30, 0,\n",
    "         np.where(arr <= 70, 1, 2))"
   ]
  },
  {
   "cell_type": "code",
   "execution_count": 1,
   "id": "4b5b0f8e-e452-44a4-b74e-f3b8dfbe877d",
   "metadata": {},
   "outputs": [],
   "source": [
    "import numpy as np"
   ]
  },
  {
   "cell_type": "code",
   "execution_count": 31,
   "id": "c76bb531-1ef6-4115-9ff7-9bd05b4d5e22",
   "metadata": {},
   "outputs": [],
   "source": [
    "arr = np.array([[10, 25, 30],\n",
    "                [45, 50, 60],\n",
    "                [70, 80, 90]])"
   ]
  },
  {
   "cell_type": "code",
   "execution_count": 4,
   "id": "99465ed2-5f91-487b-bddf-3225af1e1dae",
   "metadata": {},
   "outputs": [
    {
     "data": {
      "text/plain": [
       "2"
      ]
     },
     "execution_count": 4,
     "metadata": {},
     "output_type": "execute_result"
    }
   ],
   "source": [
    "arr.ndim"
   ]
  },
  {
   "cell_type": "code",
   "execution_count": 5,
   "id": "8315a374-fc28-4b40-93c3-882cefb6b01d",
   "metadata": {},
   "outputs": [
    {
     "data": {
      "text/plain": [
       "array([45, 50, 60, 70, 80, 90])"
      ]
     },
     "execution_count": 5,
     "metadata": {},
     "output_type": "execute_result"
    }
   ],
   "source": [
    "arr[arr > 30]"
   ]
  },
  {
   "cell_type": "code",
   "execution_count": 6,
   "id": "6df0e0e9-171d-4d74-8c02-518668914dce",
   "metadata": {},
   "outputs": [
    {
     "data": {
      "text/plain": [
       "array([125, 155, 180])"
      ]
     },
     "execution_count": 6,
     "metadata": {},
     "output_type": "execute_result"
    }
   ],
   "source": [
    "np.sum(arr, axis = 0)"
   ]
  },
  {
   "cell_type": "code",
   "execution_count": 7,
   "id": "63b1c0e0-a4aa-4a75-8d90-fb1a421fbe08",
   "metadata": {},
   "outputs": [
    {
     "data": {
      "text/plain": [
       "array([[10, 25, 30],\n",
       "       [45, 50, 60],\n",
       "       [70, 80, 90]])"
      ]
     },
     "execution_count": 7,
     "metadata": {},
     "output_type": "execute_result"
    }
   ],
   "source": [
    "arr"
   ]
  },
  {
   "cell_type": "code",
   "execution_count": 10,
   "id": "87af7fc1-4ac1-4e89-88cf-9fda3f87964e",
   "metadata": {},
   "outputs": [],
   "source": [
    "arr[1:, :2] = 10"
   ]
  },
  {
   "cell_type": "code",
   "execution_count": 11,
   "id": "e96274d4-c4dc-40e7-9e83-b1f03b5fdcb5",
   "metadata": {},
   "outputs": [
    {
     "data": {
      "text/plain": [
       "array([[10, 25, 30],\n",
       "       [10, 10, 60],\n",
       "       [10, 10, 90]])"
      ]
     },
     "execution_count": 11,
     "metadata": {},
     "output_type": "execute_result"
    }
   ],
   "source": [
    "arr"
   ]
  },
  {
   "cell_type": "code",
   "execution_count": 12,
   "id": "d8fd9b06-0129-4c3d-98ee-082803bd447c",
   "metadata": {},
   "outputs": [
    {
     "data": {
      "text/plain": [
       "array([[10, 25, 30],\n",
       "       [10, 10, 60],\n",
       "       [10, 10, 90]])"
      ]
     },
     "execution_count": 12,
     "metadata": {},
     "output_type": "execute_result"
    }
   ],
   "source": [
    "arr"
   ]
  },
  {
   "cell_type": "code",
   "execution_count": 14,
   "id": "42f90d03-fa5c-4a7d-aec3-698b625b4e7a",
   "metadata": {},
   "outputs": [
    {
     "data": {
      "text/plain": [
       "array([25])"
      ]
     },
     "execution_count": 14,
     "metadata": {},
     "output_type": "execute_result"
    }
   ],
   "source": [
    "arr[arr % 2 != 0]"
   ]
  },
  {
   "cell_type": "code",
   "execution_count": 15,
   "id": "e222ead3-36d5-4a3d-b687-54f5cf1ad24c",
   "metadata": {},
   "outputs": [
    {
     "data": {
      "text/plain": [
       "array([[2, 3, 4],\n",
       "       [3, 4, 5],\n",
       "       [4, 5, 6]])"
      ]
     },
     "execution_count": 15,
     "metadata": {},
     "output_type": "execute_result"
    }
   ],
   "source": [
    "np.array([1, 2, 3]) + np.array([[1],[2],[3]])"
   ]
  },
  {
   "cell_type": "code",
   "execution_count": 20,
   "id": "04938ea0-f768-4700-a4d4-89a18bea3755",
   "metadata": {},
   "outputs": [
    {
     "data": {
      "text/plain": [
       "2"
      ]
     },
     "execution_count": 20,
     "metadata": {},
     "output_type": "execute_result"
    }
   ],
   "source": [
    "np.ndim(np.array([[1],[2],[3]]))"
   ]
  },
  {
   "cell_type": "code",
   "execution_count": 22,
   "id": "e002d001-40db-40e4-acf7-baa694bf1179",
   "metadata": {},
   "outputs": [
    {
     "data": {
      "text/plain": [
       "array([9, 8, 7, 6, 5, 4, 3, 2, 1, 0])"
      ]
     },
     "execution_count": 22,
     "metadata": {},
     "output_type": "execute_result"
    }
   ],
   "source": [
    "np.arange(10)[::-1]"
   ]
  },
  {
   "cell_type": "code",
   "execution_count": 29,
   "id": "9bac9367-b7e0-4097-9d1a-4a1d90c95d92",
   "metadata": {},
   "outputs": [
    {
     "data": {
      "text/plain": [
       "array([[1, 2, 1, 2, 1, 2],\n",
       "       [1, 2, 1, 2, 1, 2]])"
      ]
     },
     "execution_count": 29,
     "metadata": {},
     "output_type": "execute_result"
    }
   ],
   "source": [
    "np.tile(np.array([1, 2]),(2, 3))"
   ]
  },
  {
   "cell_type": "code",
   "execution_count": 27,
   "id": "c2f79f11-a98b-43cf-9039-62f5e951c2ad",
   "metadata": {},
   "outputs": [
    {
     "data": {
      "text/plain": [
       "array([1, 2])"
      ]
     },
     "execution_count": 27,
     "metadata": {},
     "output_type": "execute_result"
    }
   ],
   "source": [
    "np.array([1, 2])"
   ]
  },
  {
   "cell_type": "code",
   "execution_count": 30,
   "id": "3cbba30f-eb9a-4f49-8694-b4baeb3261d0",
   "metadata": {},
   "outputs": [
    {
     "data": {
      "text/plain": [
       "array([[10, 25, 30],\n",
       "       [10, 10, 60],\n",
       "       [10, 10, 90]])"
      ]
     },
     "execution_count": 30,
     "metadata": {},
     "output_type": "execute_result"
    }
   ],
   "source": [
    "arr"
   ]
  },
  {
   "cell_type": "code",
   "execution_count": 33,
   "id": "2e81406c-42c3-497e-88b0-a4f5af89cb81",
   "metadata": {},
   "outputs": [
    {
     "data": {
      "text/plain": [
       "True"
      ]
     },
     "execution_count": 33,
     "metadata": {},
     "output_type": "execute_result"
    }
   ],
   "source": [
    "np.all(arr > 0)"
   ]
  },
  {
   "cell_type": "code",
   "execution_count": 34,
   "id": "b3dccc48-af6a-462e-8896-fbb16385d047",
   "metadata": {},
   "outputs": [
    {
     "data": {
      "text/plain": [
       "array([1, 3, 6])"
      ]
     },
     "execution_count": 34,
     "metadata": {},
     "output_type": "execute_result"
    }
   ],
   "source": [
    "np.cumsum(np.array([1, 2, 3]))"
   ]
  },
  {
   "cell_type": "code",
   "execution_count": 35,
   "id": "f572233b-04fa-4edb-bb3b-cdefb1b8ee60",
   "metadata": {},
   "outputs": [
    {
     "data": {
      "text/plain": [
       "array([1, 2, 6])"
      ]
     },
     "execution_count": 35,
     "metadata": {},
     "output_type": "execute_result"
    }
   ],
   "source": [
    "np.cumproduct(np.array([1, 2, 3]))"
   ]
  },
  {
   "cell_type": "code",
   "execution_count": 37,
   "id": "8d75a6e7-9913-4a15-928d-37e7b0ae04df",
   "metadata": {},
   "outputs": [
    {
     "data": {
      "text/plain": [
       "array([ 1,  4, 12])"
      ]
     },
     "execution_count": 37,
     "metadata": {},
     "output_type": "execute_result"
    }
   ],
   "source": [
    "np.cumprod(np.array([1, 4, 3]))"
   ]
  },
  {
   "cell_type": "code",
   "execution_count": 39,
   "id": "6a978e88-0681-4fc5-b510-6059af083a0b",
   "metadata": {},
   "outputs": [
    {
     "data": {
      "text/plain": [
       "array([[5, 2, 1, 3, 6],\n",
       "       [7, 9, 4, 4, 7],\n",
       "       [5, 8, 3, 4, 9],\n",
       "       [8, 8, 4, 6, 9],\n",
       "       [2, 7, 3, 9, 3]])"
      ]
     },
     "execution_count": 39,
     "metadata": {},
     "output_type": "execute_result"
    }
   ],
   "source": [
    "np.random.randint(1, 10, size = (5, 5))"
   ]
  },
  {
   "cell_type": "code",
   "execution_count": 40,
   "id": "24ac126f-36b5-4d48-9637-416a88803550",
   "metadata": {},
   "outputs": [
    {
     "data": {
      "text/plain": [
       "array([[10, 25, 30],\n",
       "       [45, 50, 60],\n",
       "       [70, 80, 90]])"
      ]
     },
     "execution_count": 40,
     "metadata": {},
     "output_type": "execute_result"
    }
   ],
   "source": [
    "arr"
   ]
  },
  {
   "cell_type": "code",
   "execution_count": 41,
   "id": "db72f527-b0a9-4298-b27e-dc6700e8f6d4",
   "metadata": {},
   "outputs": [
    {
     "data": {
      "text/plain": [
       "array([[40, 40, 40],\n",
       "       [45, 50, 50],\n",
       "       [50, 50, 50]])"
      ]
     },
     "execution_count": 41,
     "metadata": {},
     "output_type": "execute_result"
    }
   ],
   "source": [
    "np.clip(arr, 40, 50)"
   ]
  },
  {
   "cell_type": "code",
   "execution_count": 42,
   "id": "88b55ad3-19c2-4952-9691-b47cfff6b206",
   "metadata": {},
   "outputs": [
    {
     "data": {
      "text/plain": [
       "array([[10, 25, 30],\n",
       "       [45, 50, 60],\n",
       "       [70, 80, 90]])"
      ]
     },
     "execution_count": 42,
     "metadata": {},
     "output_type": "execute_result"
    }
   ],
   "source": [
    "arr"
   ]
  },
  {
   "cell_type": "code",
   "execution_count": 43,
   "id": "e29a5746-77cb-4cc0-87cd-d0fa10391660",
   "metadata": {},
   "outputs": [
    {
     "data": {
      "text/plain": [
       "array([[[10, 25, 30],\n",
       "        [45, 50, 60],\n",
       "        [70, 80, 90]]])"
      ]
     },
     "execution_count": 43,
     "metadata": {},
     "output_type": "execute_result"
    }
   ],
   "source": [
    "np.expand_dims(arr, axis = 0)"
   ]
  },
  {
   "cell_type": "code",
   "execution_count": 44,
   "id": "4f70abdd-86a9-4c01-a606-2fc23b3ac3fd",
   "metadata": {},
   "outputs": [
    {
     "data": {
      "text/plain": [
       "array([[10, 25, 30],\n",
       "       [45, 50, 60],\n",
       "       [70, 80, 90]])"
      ]
     },
     "execution_count": 44,
     "metadata": {},
     "output_type": "execute_result"
    }
   ],
   "source": [
    "arr"
   ]
  },
  {
   "cell_type": "code",
   "execution_count": 45,
   "id": "21c17607-0277-4131-81f7-b8af37b9443c",
   "metadata": {},
   "outputs": [
    {
     "data": {
      "text/plain": [
       "array([[0, 1, 2],\n",
       "       [0, 1, 2],\n",
       "       [0, 1, 2]], dtype=int64)"
      ]
     },
     "execution_count": 45,
     "metadata": {},
     "output_type": "execute_result"
    }
   ],
   "source": [
    "np.argsort(arr)"
   ]
  },
  {
   "cell_type": "code",
   "execution_count": 48,
   "id": "57c24141-540d-4d47-9bd9-0a485fc45814",
   "metadata": {},
   "outputs": [
    {
     "data": {
      "text/plain": [
       "15"
      ]
     },
     "execution_count": 48,
     "metadata": {},
     "output_type": "execute_result"
    }
   ],
   "source": [
    "np.prod(np.array([1, 5, 3]))"
   ]
  },
  {
   "cell_type": "code",
   "execution_count": 49,
   "id": "59d86998-bc60-4066-bf21-60346e8e8643",
   "metadata": {},
   "outputs": [
    {
     "data": {
      "text/plain": [
       "array([[10, 25, 30],\n",
       "       [45, 50, 60],\n",
       "       [70, 80, 90]])"
      ]
     },
     "execution_count": 49,
     "metadata": {},
     "output_type": "execute_result"
    }
   ],
   "source": [
    "arr"
   ]
  },
  {
   "cell_type": "code",
   "execution_count": 51,
   "id": "9bf23bb4-a6cf-41a6-93b7-8fba044a3294",
   "metadata": {},
   "outputs": [
    {
     "data": {
      "text/plain": [
       "array([[False,  True, False],\n",
       "       [False, False, False],\n",
       "       [ True, False, False]])"
      ]
     },
     "execution_count": 51,
     "metadata": {},
     "output_type": "execute_result"
    }
   ],
   "source": [
    "np.isin(arr, [25, 70])"
   ]
  },
  {
   "cell_type": "code",
   "execution_count": 52,
   "id": "7eac0cff-f98d-43e4-a4a7-922d1cba212c",
   "metadata": {},
   "outputs": [],
   "source": [
    "a = np.array([[1, 2], [3, 4]])"
   ]
  },
  {
   "cell_type": "code",
   "execution_count": 53,
   "id": "843b78a7-1f96-4edf-8cc4-ebeea3d07de5",
   "metadata": {},
   "outputs": [
    {
     "data": {
      "text/plain": [
       "array([[1, 2],\n",
       "       [3, 4]])"
      ]
     },
     "execution_count": 53,
     "metadata": {},
     "output_type": "execute_result"
    }
   ],
   "source": [
    "a"
   ]
  },
  {
   "cell_type": "code",
   "execution_count": 54,
   "id": "e6ab8dec-62ff-43d2-a050-4e55c09c0378",
   "metadata": {},
   "outputs": [
    {
     "data": {
      "text/plain": [
       "array([[1],\n",
       "       [2],\n",
       "       [3],\n",
       "       [4]])"
      ]
     },
     "execution_count": 54,
     "metadata": {},
     "output_type": "execute_result"
    }
   ],
   "source": [
    "a.reshape(-1, 1)"
   ]
  },
  {
   "cell_type": "code",
   "execution_count": 55,
   "id": "1f9190ba-8529-4ac5-b8eb-53b4a784db6e",
   "metadata": {},
   "outputs": [
    {
     "data": {
      "text/plain": [
       "array([[1, 2, 3, 4]])"
      ]
     },
     "execution_count": 55,
     "metadata": {},
     "output_type": "execute_result"
    }
   ],
   "source": [
    "a.reshape([1, -1])"
   ]
  },
  {
   "cell_type": "code",
   "execution_count": 58,
   "id": "79695fcf-d414-4757-82c9-dd8e3c7cbac5",
   "metadata": {},
   "outputs": [
    {
     "data": {
      "text/plain": [
       "array([[1, 2, 3, 4]])"
      ]
     },
     "execution_count": 58,
     "metadata": {},
     "output_type": "execute_result"
    }
   ],
   "source": [
    "a.reshape([-1, 4])"
   ]
  },
  {
   "cell_type": "code",
   "execution_count": 59,
   "id": "2648d189-9710-4e04-9bd7-3622fe3ea048",
   "metadata": {},
   "outputs": [
    {
     "data": {
      "text/plain": [
       "(4, 1)"
      ]
     },
     "execution_count": 59,
     "metadata": {},
     "output_type": "execute_result"
    }
   ],
   "source": [
    "np.shape(a.reshape(-1, 1))"
   ]
  },
  {
   "cell_type": "code",
   "execution_count": 60,
   "id": "38bd0f8e-f121-4ebb-a296-2465d00a9429",
   "metadata": {},
   "outputs": [
    {
     "data": {
      "text/plain": [
       "(1, 4)"
      ]
     },
     "execution_count": 60,
     "metadata": {},
     "output_type": "execute_result"
    }
   ],
   "source": [
    "np.shape(a.reshape(1, -1))"
   ]
  },
  {
   "cell_type": "code",
   "execution_count": 62,
   "id": "7c51e4cc-3796-4713-869f-977690a20bbf",
   "metadata": {},
   "outputs": [
    {
     "data": {
      "text/plain": [
       "array([[1, 2, 3]])"
      ]
     },
     "execution_count": 62,
     "metadata": {},
     "output_type": "execute_result"
    }
   ],
   "source": [
    "a = np.array([1, 2, 3])\n",
    "np.expand_dims(a, axis=0)  # → shape (1, 3)"
   ]
  },
  {
   "cell_type": "code",
   "execution_count": 63,
   "id": "c7f56a8e-5dc4-49f5-a216-96be7e3379aa",
   "metadata": {},
   "outputs": [
    {
     "data": {
      "text/plain": [
       "array([[1],\n",
       "       [2],\n",
       "       [3]])"
      ]
     },
     "execution_count": 63,
     "metadata": {},
     "output_type": "execute_result"
    }
   ],
   "source": [
    "np.expand_dims(a, axis=1)"
   ]
  },
  {
   "cell_type": "code",
   "execution_count": 64,
   "id": "43fa4077-d145-4aef-802a-fae04c90bd18",
   "metadata": {},
   "outputs": [
    {
     "data": {
      "text/plain": [
       "array([1, 2, 3])"
      ]
     },
     "execution_count": 64,
     "metadata": {},
     "output_type": "execute_result"
    }
   ],
   "source": [
    "a"
   ]
  },
  {
   "cell_type": "code",
   "execution_count": 65,
   "id": "bc6c88c6-b8c4-415e-bef2-49c1671649c9",
   "metadata": {},
   "outputs": [
    {
     "data": {
      "text/plain": [
       "array([[10, 25, 30],\n",
       "       [45, 50, 60],\n",
       "       [70, 80, 90]])"
      ]
     },
     "execution_count": 65,
     "metadata": {},
     "output_type": "execute_result"
    }
   ],
   "source": [
    "arr"
   ]
  },
  {
   "cell_type": "code",
   "execution_count": 67,
   "id": "444c0cf4-d27a-4ef5-bea8-47a77584f5bb",
   "metadata": {},
   "outputs": [
    {
     "data": {
      "text/plain": [
       "array(['Odd', 'Even', 'Odd', 'Even', 'Odd'], dtype='<U4')"
      ]
     },
     "execution_count": 67,
     "metadata": {},
     "output_type": "execute_result"
    }
   ],
   "source": [
    "def even_odd(x):\n",
    "    return \"Even\" if x % 2 == 0 else \"Odd\"\n",
    "np.vectorize(even_odd)(np.array([1, 2, 3, 4, 5]))"
   ]
  },
  {
   "cell_type": "code",
   "execution_count": 68,
   "id": "e35e7ff5-ecfa-443d-a4c3-e3f521613ea1",
   "metadata": {},
   "outputs": [
    {
     "name": "stdout",
     "output_type": "stream",
     "text": [
      "1 is Odd\n",
      "2 is Even\n",
      "3 is Odd\n",
      "4 is Even\n",
      "5 is Odd\n"
     ]
    }
   ],
   "source": [
    "arr = np.array([1, 2, 3, 4, 5])\n",
    "labels = np.vectorize(even_odd)(arr)\n",
    "\n",
    "for val, label in zip(arr, labels):\n",
    "    print(f\"{val} is {label}\")"
   ]
  },
  {
   "cell_type": "code",
   "execution_count": 75,
   "id": "d4861c07-f15f-4ee4-9940-fa351394bc65",
   "metadata": {},
   "outputs": [
    {
     "name": "stdout",
     "output_type": "stream",
     "text": [
      "Result:  (array([1, 2, 3, 4]), array(['Odd', 'Even', 'Odd', 'Even'], dtype='<U4'))\n",
      "(array([1, 2, 3, 4]),)\n",
      "(array(['Odd', 'Even', 'Odd', 'Even'], dtype='<U4'),)\n"
     ]
    }
   ],
   "source": [
    "def describe(x):\n",
    "    return x, \"Even\" if x % 2 == 0 else \"Odd\"\n",
    "\n",
    "vfunc = np.vectorize(describe)\n",
    "result = vfunc(np.array([1, 2, 3, 4]))\n",
    "print(\"Result: \", result)\n",
    "values, labels = zip(result)\n",
    "print(values)  # (1, 2, 3, 4)\n",
    "print(labels)  # ('Odd', 'Even', 'Odd', 'Even')"
   ]
  },
  {
   "cell_type": "code",
   "execution_count": 76,
   "id": "c92dd3d6-09a9-49a6-b552-c12efcc0d995",
   "metadata": {},
   "outputs": [
    {
     "name": "stdout",
     "output_type": "stream",
     "text": [
      "Values: [1 2 3 4 5]\n",
      "Labels: ['Odd' 'Even' 'Odd' 'Even' 'Odd']\n",
      "\n",
      "DataFrame:\n",
      "    Value Label\n",
      "0      1   Odd\n",
      "1      2  Even\n",
      "2      3   Odd\n",
      "3      4  Even\n",
      "4      5   Odd\n"
     ]
    }
   ],
   "source": [
    "import numpy as np\n",
    "import pandas as pd\n",
    "\n",
    "# Define the function that returns a tuple\n",
    "def describe(x):\n",
    "    return x, \"Even\" if x % 2 == 0 else \"Odd\"\n",
    "\n",
    "# Vectorize the function and specify output types\n",
    "# otypes=[int, str] tells NumPy to expect two outputs: one int, one string\n",
    "vfunc = np.vectorize(describe, otypes=[int, str])\n",
    "\n",
    "# Apply to a NumPy array\n",
    "values, labels = vfunc(np.array([1, 2, 3, 4, 5]))\n",
    "\n",
    "# Print the separate arrays\n",
    "print(\"Values:\", values)   # Output: array([1, 2, 3, 4, 5])\n",
    "print(\"Labels:\", labels)   # Output: array(['Odd', 'Even', 'Odd', 'Even', 'Odd'])\n",
    "\n",
    "# Optional: Convert to a pandas DataFrame for tabular view\n",
    "df = pd.DataFrame({\"Value\": values, \"Label\": labels})\n",
    "print(\"\\nDataFrame:\\n\", df)"
   ]
  },
  {
   "cell_type": "code",
   "execution_count": 80,
   "id": "52ac1215-6c43-412c-88ae-c11c5edbf360",
   "metadata": {},
   "outputs": [
    {
     "name": "stdout",
     "output_type": "stream",
     "text": [
      "Result: [[1 'Odd']\n",
      " [2 'Even']\n",
      " [3 'Odd']\n",
      " [4 'Even']]\n"
     ]
    }
   ],
   "source": [
    "import numpy as np\n",
    "\n",
    "def describe(x):\n",
    "    return x, \"Even\" if x % 2 == 0 else \"Odd\"\n",
    "\n",
    "# Apply the function using a list comprehension\n",
    "result = np.array([describe(x) for x in np.array([1, 2, 3, 4])], dtype=object)\n",
    "\n",
    "print(\"Result:\", result)"
   ]
  },
  {
   "cell_type": "code",
   "execution_count": 81,
   "id": "f69f2188-e79a-4f4d-a60c-a3ecc31a1683",
   "metadata": {},
   "outputs": [
    {
     "name": "stdout",
     "output_type": "stream",
     "text": [
      "Result: [[1 'Odd']\n",
      " [2 'Even']\n",
      " [3 'Odd']\n",
      " [4 'Even']]\n"
     ]
    }
   ],
   "source": [
    "import numpy as np\n",
    "\n",
    "def describe(x):\n",
    "    return (x, \"Even\" if x % 2 == 0 else \"Odd\")  # 👈 Wrap in parentheses to force tuple\n",
    "\n",
    "# Build a list of tuples\n",
    "tuple_list = [describe(x) for x in [1, 2, 3, 4]]\n",
    "\n",
    "# Convert to NumPy array of objects\n",
    "result = np.array(tuple_list, dtype=object)\n",
    "\n",
    "print(\"Result:\", result)"
   ]
  },
  {
   "cell_type": "code",
   "execution_count": 90,
   "id": "d3f1a8b2-49c3-4171-b018-d932eb9bd799",
   "metadata": {},
   "outputs": [
    {
     "name": "stdout",
     "output_type": "stream",
     "text": [
      "(array([1, 2, 3]), array([1, 4, 9]), array([False,  True, False]))\n",
      "<class 'tuple'>\n",
      "[1 2 3]\n",
      "[1 4 9]\n",
      "[False  True False]\n",
      "<zip object at 0x000002A1B1C34400>\n"
     ]
    }
   ],
   "source": [
    "def stats(x):\n",
    "    return x, x**2, x % 2 == 0\n",
    "\n",
    "vstats = np.vectorize(stats)\n",
    "result = vstats(np.array([1, 2, 3]))\n",
    "print(result)\n",
    "print(type(result))\n",
    "Org, Sqr, Bool = result\n",
    "print(Org)\n",
    "print(Sqr)\n",
    "print(Bool)\n",
    "print(zip(result))"
   ]
  },
  {
   "cell_type": "code",
   "execution_count": 91,
   "id": "a9ee9bd4-385b-4914-a281-7614601c3f36",
   "metadata": {},
   "outputs": [
    {
     "name": "stdout",
     "output_type": "stream",
     "text": [
      "['Mr. Lokesh' 'Mr. Arjun' 'Mr. Ravi']\n"
     ]
    }
   ],
   "source": [
    "import numpy as np\n",
    "\n",
    "def add_prefix(name):\n",
    "    return f\"Mr. {name}\"\n",
    "\n",
    "ufunc_prefix = np.frompyfunc(add_prefix, 1, 1)\n",
    "\n",
    "names = np.array([\"Lokesh\", \"Arjun\", \"Ravi\"])\n",
    "formatted = ufunc_prefix(names)\n",
    "\n",
    "print(formatted)\n",
    "# Output: ['Mr. Lokesh' 'Mr. Arjun' 'Mr. Ravi']"
   ]
  },
  {
   "cell_type": "code",
   "execution_count": 94,
   "id": "1eae9998-1afd-4a65-94aa-d4c75e5e95af",
   "metadata": {},
   "outputs": [
    {
     "name": "stdout",
     "output_type": "stream",
     "text": [
      "(array([10, 5, 3], dtype=object), array([3, 7, 3], dtype=object), array([7, 2, 0], dtype=object))\n",
      "a:  [10 5 3]\n",
      "b:  [3 7 3]\n",
      "Output:  [7 2 0]\n"
     ]
    }
   ],
   "source": [
    "def diff_abs(x, y):\n",
    "    return x, y, abs(x - y)\n",
    "\n",
    "ufunc_diff = np.frompyfunc(diff_abs, 2, 3)\n",
    "\n",
    "a = np.array([10, 5, 3])\n",
    "b = np.array([3, 7, 3])\n",
    "\n",
    "result = ufunc_diff(a, b)\n",
    "print(result)\n",
    "source, target, output = result\n",
    "print(\"a: \", source)\n",
    "print(\"b: \", target)\n",
    "print(\"Output: \", output)"
   ]
  },
  {
   "cell_type": "code",
   "execution_count": 100,
   "id": "e2ae5648-2963-4b04-a1a4-c5a41b20dcdb",
   "metadata": {},
   "outputs": [
    {
     "name": "stdout",
     "output_type": "stream",
     "text": [
      "[(101, 'Lokesh', 75000.) (102, 'Arjun', 68000.) (103, 'Ravi', 72000.)]\n",
      "<class 'numpy.ndarray'>\n",
      "1\n",
      "['Lokesh' 'Arjun' 'Ravi']\n",
      "[(101, 'Lokesh', 75000.) (103, 'Ravi', 72000.)]\n"
     ]
    }
   ],
   "source": [
    "import numpy as np\n",
    "\n",
    "employee_dtype = np.dtype([\n",
    "    ('id', 'i4'),         # 4-byte integer\n",
    "    ('name', 'U10'),      # Unicode string of max length 10\n",
    "    ('salary', 'f4')      # 4-byte float\n",
    "])\n",
    "\n",
    "employees = np.array([\n",
    "    (101, 'Lokesh', 75000.0),\n",
    "    (102, 'Arjun', 68000.0),\n",
    "    (103, 'Ravi', 72000.0)\n",
    "], dtype=employee_dtype)\n",
    "\n",
    "print(employees)\n",
    "print(type(employees))\n",
    "print(np.ndim(employees))\n",
    "print(employees['name'])\n",
    "print(employees[employees['salary'] > 70000])"
   ]
  },
  {
   "cell_type": "code",
   "execution_count": 108,
   "id": "a6507b55-50ab-4e73-9562-667ac973c210",
   "metadata": {},
   "outputs": [
    {
     "name": "stdout",
     "output_type": "stream",
     "text": [
      "[(1, 'Lokesh',  95000.,  5000.) (2, 'Karthik', 200000., 50000.)\n",
      " (4, 'Kranti',  70000., 15000.)]\n"
     ]
    }
   ],
   "source": [
    "employee_dtype = np.dtype([\n",
    "    ('id', 'i4'),\n",
    "    ('name', 'U10'),\n",
    "    ('salary', 'f4'),\n",
    "    ('bonus', 'f4')   \n",
    "])\n",
    "\n",
    "employees = np.array([\n",
    "    (1, 'Lokesh', 95000, 5000),\n",
    "    (2, 'Karthik', 200000, 50000),\n",
    "    (3, 'Ravi', 45000, 3000),\n",
    "    (4, 'Kranti', 70000, 15000),\n",
    "    (5, 'Naga', 20000, 60000)\n",
    "], dtype = employee_dtype)\n",
    "\n",
    "print(employees[employees['salary'] + employees['bonus'] > 80000])"
   ]
  },
  {
   "cell_type": "code",
   "execution_count": 110,
   "id": "c3f58415-8214-4ada-adb6-3952b18b3297",
   "metadata": {},
   "outputs": [
    {
     "name": "stdout",
     "output_type": "stream",
     "text": [
      "Total_Comp:  [100000. 250000.  48000.  85000.  80000.]\n",
      "Mask:  [ True  True False  True False]\n",
      "Filtered:  [(1, 'Lokesh',  95000.,  5000.) (2, 'Karthik', 200000., 50000.)\n",
      " (4, 'Kranti',  70000., 15000.)]\n",
      "Employees with total compensation > ₹80,000:\n",
      "Lokesh: ₹100000.00\n",
      "Karthik: ₹250000.00\n",
      "Kranti: ₹85000.00\n",
      "\n",
      "Sorted by total compensation:\n",
      "Karthik: ₹250000.00\n",
      "Lokesh: ₹100000.00\n",
      "Kranti: ₹85000.00\n"
     ]
    }
   ],
   "source": [
    "import numpy as np\n",
    "\n",
    "# Step 1: Define structured dtype\n",
    "employee_dtype = np.dtype([\n",
    "    ('id', 'i4'),\n",
    "    ('name', 'U10'),\n",
    "    ('salary', 'f4'),\n",
    "    ('bonus', 'f4')\n",
    "])\n",
    "\n",
    "# Step 2: Create structured array\n",
    "employees = np.array([\n",
    "    (1, 'Lokesh', 95000, 5000),\n",
    "    (2, 'Karthik', 200000, 50000),\n",
    "    (3, 'Ravi', 45000, 3000),\n",
    "    (4, 'Kranti', 70000, 15000),\n",
    "    (5, 'Naga', 20000, 60000)\n",
    "], dtype=employee_dtype)\n",
    "\n",
    "# Step 3: Compute total compensation\n",
    "total_comp = employees['salary'] + employees['bonus']\n",
    "print(\"Total_Comp: \", total_comp)\n",
    "\n",
    "# Step 4: Filter employees with total > 80000\n",
    "mask = total_comp > 80000\n",
    "print(\"Mask: \", mask)\n",
    "filtered = employees[mask]\n",
    "print(\"Filtered: \", filtered)\n",
    "\n",
    "# Step 5: Print names and total compensation\n",
    "print(\"Employees with total compensation > ₹80,000:\")\n",
    "for emp, comp in zip(filtered, total_comp[mask]):\n",
    "    print(f\"{emp['name']}: ₹{comp:.2f}\")\n",
    "\n",
    "# Step 6: Sort by total compensation (descending)\n",
    "sorted_indices = np.argsort(total_comp[mask])[::-1]\n",
    "sorted_filtered = filtered[sorted_indices]\n",
    "sorted_comp = total_comp[mask][sorted_indices]\n",
    "\n",
    "print(\"\\nSorted by total compensation:\")\n",
    "for emp, comp in zip(sorted_filtered, sorted_comp):\n",
    "    print(f\"{emp['name']}: ₹{comp:.2f}\")"
   ]
  },
  {
   "cell_type": "code",
   "execution_count": 10,
   "id": "b8e398aa-6f89-4610-a1ec-2dce8f20aaef",
   "metadata": {},
   "outputs": [],
   "source": [
    "import numpy as np\n",
    "\n",
    "array_2D = np.array([[20,30,40,50,60], [43,54,65,76,87], [11,22,33,44,55]], dtype = np.float32)\n",
    "array_3D = np.array([[[1,2,3,4,5], [11,21,31,41,51]], [[11,12,13,14,15], [51,52,53,54,5]]], dtype = np.float32)"
   ]
  },
  {
   "cell_type": "code",
   "execution_count": 8,
   "id": "3a72be8f-34a2-4aa0-833f-5b16ef195c05",
   "metadata": {},
   "outputs": [
    {
     "data": {
      "text/plain": [
       "array([40., 65., 33.])"
      ]
     },
     "execution_count": 8,
     "metadata": {},
     "output_type": "execute_result"
    }
   ],
   "source": [
    "np.mean(array_2D, axis = 1)"
   ]
  },
  {
   "cell_type": "code",
   "execution_count": 9,
   "id": "5f7055f5-8ede-42c9-82b7-a255cbc07a6b",
   "metadata": {},
   "outputs": [
    {
     "data": {
      "text/plain": [
       "array([[ 6. ,  7. ,  8. ,  9. , 10. ],\n",
       "       [31. , 36.5, 42. , 47.5, 28. ]])"
      ]
     },
     "execution_count": 9,
     "metadata": {},
     "output_type": "execute_result"
    }
   ],
   "source": [
    "np.mean(array_3D, axis = 0)"
   ]
  },
  {
   "cell_type": "code",
   "execution_count": null,
   "id": "169098e1-94d2-4967-855d-0796641dbd7e",
   "metadata": {},
   "outputs": [],
   "source": []
  }
 ],
 "metadata": {
  "kernelspec": {
   "display_name": "Python 3 (ipykernel)",
   "language": "python",
   "name": "python3"
  },
  "language_info": {
   "codemirror_mode": {
    "name": "ipython",
    "version": 3
   },
   "file_extension": ".py",
   "mimetype": "text/x-python",
   "name": "python",
   "nbconvert_exporter": "python",
   "pygments_lexer": "ipython3",
   "version": "3.12.7"
  }
 },
 "nbformat": 4,
 "nbformat_minor": 5
}
